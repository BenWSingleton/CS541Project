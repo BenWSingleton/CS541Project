{
 "cells": [
  {
   "cell_type": "code",
   "execution_count": 259,
   "id": "aa13b117",
   "metadata": {},
   "outputs": [],
   "source": [
    "import numpy as np\n",
    "import pandas as pd\n",
    "from sklearn.feature_extraction.text import CountVectorizer\n",
    "from sklearn.neural_network import MLPClassifier\n",
    "from sklearn.model_selection import train_test_split\n",
    "from sklearn.metrics import classification_report\n",
    "from sklearn.metrics import confusion_matrix\n",
    "import matplotlib.pyplot as plt\n",
    "import time\n",
    "from statistics import mean"
   ]
  },
  {
   "cell_type": "code",
   "execution_count": 2,
   "id": "0b2eb283",
   "metadata": {},
   "outputs": [],
   "source": [
    "df = pd.read_csv('GPT-wiki-intro.csv', na_values=\"?\")"
   ]
  },
  {
   "cell_type": "code",
   "execution_count": 3,
   "id": "675d0b3c",
   "metadata": {},
   "outputs": [
    {
     "data": {
      "text/html": [
       "<div>\n",
       "<style scoped>\n",
       "    .dataframe tbody tr th:only-of-type {\n",
       "        vertical-align: middle;\n",
       "    }\n",
       "\n",
       "    .dataframe tbody tr th {\n",
       "        vertical-align: top;\n",
       "    }\n",
       "\n",
       "    .dataframe thead th {\n",
       "        text-align: right;\n",
       "    }\n",
       "</style>\n",
       "<table border=\"1\" class=\"dataframe\">\n",
       "  <thead>\n",
       "    <tr style=\"text-align: right;\">\n",
       "      <th></th>\n",
       "      <th>id</th>\n",
       "      <th>url</th>\n",
       "      <th>title</th>\n",
       "      <th>wiki_intro</th>\n",
       "      <th>generated_intro</th>\n",
       "      <th>title_len</th>\n",
       "      <th>wiki_intro_len</th>\n",
       "      <th>generated_intro_len</th>\n",
       "      <th>prompt</th>\n",
       "      <th>generated_text</th>\n",
       "      <th>prompt_tokens</th>\n",
       "      <th>generated_text_tokens</th>\n",
       "    </tr>\n",
       "  </thead>\n",
       "  <tbody>\n",
       "    <tr>\n",
       "      <th>0</th>\n",
       "      <td>63064638</td>\n",
       "      <td>https://en.wikipedia.org/wiki/Sexhow%20railway...</td>\n",
       "      <td>Sexhow railway station</td>\n",
       "      <td>Sexhow railway station was a railway station b...</td>\n",
       "      <td>Sexhow railway station was a railway station l...</td>\n",
       "      <td>3</td>\n",
       "      <td>174</td>\n",
       "      <td>78</td>\n",
       "      <td>200 word wikipedia style introduction on 'Sexh...</td>\n",
       "      <td>located in the town of Sexhow, on the Cumbria...</td>\n",
       "      <td>25</td>\n",
       "      <td>88</td>\n",
       "    </tr>\n",
       "    <tr>\n",
       "      <th>1</th>\n",
       "      <td>279621</td>\n",
       "      <td>https://en.wikipedia.org/wiki/Eti%C3%A4inen</td>\n",
       "      <td>Etiäinen</td>\n",
       "      <td>In Finnish folklore, all places and things, an...</td>\n",
       "      <td>In Finnish folklore, all places and things, an...</td>\n",
       "      <td>1</td>\n",
       "      <td>187</td>\n",
       "      <td>80</td>\n",
       "      <td>200 word wikipedia style introduction on 'Etiä...</td>\n",
       "      <td>animate or inanimate, have a spirit or \"etiäi...</td>\n",
       "      <td>26</td>\n",
       "      <td>101</td>\n",
       "    </tr>\n",
       "    <tr>\n",
       "      <th>2</th>\n",
       "      <td>287229</td>\n",
       "      <td>https://en.wikipedia.org/wiki/Inverse%20functi...</td>\n",
       "      <td>Inverse function theorem</td>\n",
       "      <td>In mathematics, specifically differential calc...</td>\n",
       "      <td>In mathematics, specifically differential calc...</td>\n",
       "      <td>3</td>\n",
       "      <td>170</td>\n",
       "      <td>59</td>\n",
       "      <td>200 word wikipedia style introduction on 'Inve...</td>\n",
       "      <td>function theorem states that for every real-v...</td>\n",
       "      <td>26</td>\n",
       "      <td>65</td>\n",
       "    </tr>\n",
       "    <tr>\n",
       "      <th>3</th>\n",
       "      <td>26712375</td>\n",
       "      <td>https://en.wikipedia.org/wiki/Stepping%20on%20...</td>\n",
       "      <td>Stepping on Roses</td>\n",
       "      <td>is a Japanese shōjo manga series written and i...</td>\n",
       "      <td>is a Japanese shōjo manga series written and i...</td>\n",
       "      <td>3</td>\n",
       "      <td>335</td>\n",
       "      <td>121</td>\n",
       "      <td>200 word wikipedia style introduction on 'Step...</td>\n",
       "      <td>and illustrated by Maki Fujii. The series fol...</td>\n",
       "      <td>26</td>\n",
       "      <td>150</td>\n",
       "    </tr>\n",
       "    <tr>\n",
       "      <th>4</th>\n",
       "      <td>38894426</td>\n",
       "      <td>https://en.wikipedia.org/wiki/Rob%20Bradley</td>\n",
       "      <td>Rob Bradley</td>\n",
       "      <td>Robert Milner \"Rob\" Bradley, Jr. (born August ...</td>\n",
       "      <td>Robert Milner \"Rob\" Bradley, Jr. (born August ...</td>\n",
       "      <td>2</td>\n",
       "      <td>170</td>\n",
       "      <td>136</td>\n",
       "      <td>200 word wikipedia style introduction on 'Rob ...</td>\n",
       "      <td>29, 1973) is an American former professional ...</td>\n",
       "      <td>28</td>\n",
       "      <td>162</td>\n",
       "    </tr>\n",
       "  </tbody>\n",
       "</table>\n",
       "</div>"
      ],
      "text/plain": [
       "         id                                                url  \\\n",
       "0  63064638  https://en.wikipedia.org/wiki/Sexhow%20railway...   \n",
       "1    279621        https://en.wikipedia.org/wiki/Eti%C3%A4inen   \n",
       "2    287229  https://en.wikipedia.org/wiki/Inverse%20functi...   \n",
       "3  26712375  https://en.wikipedia.org/wiki/Stepping%20on%20...   \n",
       "4  38894426        https://en.wikipedia.org/wiki/Rob%20Bradley   \n",
       "\n",
       "                      title  \\\n",
       "0    Sexhow railway station   \n",
       "1                  Etiäinen   \n",
       "2  Inverse function theorem   \n",
       "3         Stepping on Roses   \n",
       "4               Rob Bradley   \n",
       "\n",
       "                                          wiki_intro  \\\n",
       "0  Sexhow railway station was a railway station b...   \n",
       "1  In Finnish folklore, all places and things, an...   \n",
       "2  In mathematics, specifically differential calc...   \n",
       "3  is a Japanese shōjo manga series written and i...   \n",
       "4  Robert Milner \"Rob\" Bradley, Jr. (born August ...   \n",
       "\n",
       "                                     generated_intro  title_len  \\\n",
       "0  Sexhow railway station was a railway station l...          3   \n",
       "1  In Finnish folklore, all places and things, an...          1   \n",
       "2  In mathematics, specifically differential calc...          3   \n",
       "3  is a Japanese shōjo manga series written and i...          3   \n",
       "4  Robert Milner \"Rob\" Bradley, Jr. (born August ...          2   \n",
       "\n",
       "   wiki_intro_len  generated_intro_len  \\\n",
       "0             174                   78   \n",
       "1             187                   80   \n",
       "2             170                   59   \n",
       "3             335                  121   \n",
       "4             170                  136   \n",
       "\n",
       "                                              prompt  \\\n",
       "0  200 word wikipedia style introduction on 'Sexh...   \n",
       "1  200 word wikipedia style introduction on 'Etiä...   \n",
       "2  200 word wikipedia style introduction on 'Inve...   \n",
       "3  200 word wikipedia style introduction on 'Step...   \n",
       "4  200 word wikipedia style introduction on 'Rob ...   \n",
       "\n",
       "                                      generated_text  prompt_tokens  \\\n",
       "0   located in the town of Sexhow, on the Cumbria...             25   \n",
       "1   animate or inanimate, have a spirit or \"etiäi...             26   \n",
       "2   function theorem states that for every real-v...             26   \n",
       "3   and illustrated by Maki Fujii. The series fol...             26   \n",
       "4   29, 1973) is an American former professional ...             28   \n",
       "\n",
       "   generated_text_tokens  \n",
       "0                     88  \n",
       "1                    101  \n",
       "2                     65  \n",
       "3                    150  \n",
       "4                    162  "
      ]
     },
     "execution_count": 3,
     "metadata": {},
     "output_type": "execute_result"
    }
   ],
   "source": [
    "df.head(5)"
   ]
  },
  {
   "cell_type": "code",
   "execution_count": 4,
   "id": "5454682d",
   "metadata": {},
   "outputs": [
    {
     "name": "stdout",
     "output_type": "stream",
     "text": [
      "<class 'pandas.core.frame.DataFrame'>\n",
      "RangeIndex: 150000 entries, 0 to 149999\n",
      "Data columns (total 12 columns):\n",
      " #   Column                 Non-Null Count   Dtype \n",
      "---  ------                 --------------   ----- \n",
      " 0   id                     150000 non-null  int64 \n",
      " 1   url                    150000 non-null  object\n",
      " 2   title                  150000 non-null  object\n",
      " 3   wiki_intro             150000 non-null  object\n",
      " 4   generated_intro        150000 non-null  object\n",
      " 5   title_len              150000 non-null  int64 \n",
      " 6   wiki_intro_len         150000 non-null  int64 \n",
      " 7   generated_intro_len    150000 non-null  int64 \n",
      " 8   prompt                 150000 non-null  object\n",
      " 9   generated_text         150000 non-null  object\n",
      " 10  prompt_tokens          150000 non-null  int64 \n",
      " 11  generated_text_tokens  150000 non-null  int64 \n",
      "dtypes: int64(6), object(6)\n",
      "memory usage: 13.7+ MB\n"
     ]
    }
   ],
   "source": [
    "df.info()"
   ]
  },
  {
   "cell_type": "code",
   "execution_count": 5,
   "id": "cd91a92b",
   "metadata": {},
   "outputs": [
    {
     "data": {
      "text/plain": [
       "0         Sexhow railway station was a railway station b...\n",
       "1         In Finnish folklore, all places and things, an...\n",
       "2         In mathematics, specifically differential calc...\n",
       "3         is a Japanese shōjo manga series written and i...\n",
       "4         Robert Milner \"Rob\" Bradley, Jr. (born August ...\n",
       "                                ...                        \n",
       "149995    Randy Borum is a Professor and Coordinator of ...\n",
       "149996    Sa'och (, also, \"Sauch\") is an endangered, nea...\n",
       "149997    Philip C. Hanawalt (born 1931) is an American ...\n",
       "149998    Vossius Gymnasium is a public gymnasium in Ams...\n",
       "149999    Simone Stratigo (, Symeon Filippos Stratigos; ...\n",
       "Name: wiki_intro, Length: 150000, dtype: object"
      ]
     },
     "execution_count": 5,
     "metadata": {},
     "output_type": "execute_result"
    }
   ],
   "source": [
    "df['wiki_intro']"
   ]
  },
  {
   "cell_type": "code",
   "execution_count": 6,
   "id": "3b1ba8ab",
   "metadata": {},
   "outputs": [
    {
     "data": {
      "text/plain": [
       "0         Sexhow railway station was a railway station l...\n",
       "1         In Finnish folklore, all places and things, an...\n",
       "2         In mathematics, specifically differential calc...\n",
       "3         is a Japanese shōjo manga series written and i...\n",
       "4         Robert Milner \"Rob\" Bradley, Jr. (born August ...\n",
       "                                ...                        \n",
       "149995    Randy Borum is a Professor and Coordinator of ...\n",
       "149996    Sa'och (, also, \"Sauch\") is an endangered, nuc...\n",
       "149997    Philip C. Hanawalt (born 1931) is an American ...\n",
       "149998    Vossius Gymnasium is a public gymnasium in the...\n",
       "149999    Simone Stratigo (, Symeon Filippos Stratigos; ...\n",
       "Name: generated_intro, Length: 150000, dtype: object"
      ]
     },
     "execution_count": 6,
     "metadata": {},
     "output_type": "execute_result"
    }
   ],
   "source": [
    "df['generated_intro']"
   ]
  },
  {
   "cell_type": "code",
   "execution_count": 7,
   "id": "ea426e53",
   "metadata": {},
   "outputs": [
    {
     "name": "stdout",
     "output_type": "stream",
     "text": [
      "350\n",
      "278\n"
     ]
    }
   ],
   "source": [
    "print(df['wiki_intro_len'].max())\n",
    "print(df['generated_intro_len'].max())"
   ]
  },
  {
   "cell_type": "markdown",
   "id": "ba34df72",
   "metadata": {},
   "source": [
    "### Reshaping the data"
   ]
  },
  {
   "cell_type": "code",
   "execution_count": 8,
   "id": "a7b01575",
   "metadata": {},
   "outputs": [],
   "source": [
    "data = pd.concat([df['wiki_intro'], df['generated_intro']], axis=0)"
   ]
  },
  {
   "cell_type": "code",
   "execution_count": 9,
   "id": "623040d9",
   "metadata": {},
   "outputs": [],
   "source": [
    "data = data.reset_index(drop=True)"
   ]
  },
  {
   "cell_type": "code",
   "execution_count": 10,
   "id": "ab1f1b04",
   "metadata": {},
   "outputs": [],
   "source": [
    "data = data.to_frame()"
   ]
  },
  {
   "cell_type": "code",
   "execution_count": 11,
   "id": "a0b01b55",
   "metadata": {},
   "outputs": [],
   "source": [
    "data.columns = ['Text']"
   ]
  },
  {
   "cell_type": "code",
   "execution_count": 12,
   "id": "0f59474f",
   "metadata": {},
   "outputs": [
    {
     "data": {
      "text/html": [
       "<div>\n",
       "<style scoped>\n",
       "    .dataframe tbody tr th:only-of-type {\n",
       "        vertical-align: middle;\n",
       "    }\n",
       "\n",
       "    .dataframe tbody tr th {\n",
       "        vertical-align: top;\n",
       "    }\n",
       "\n",
       "    .dataframe thead th {\n",
       "        text-align: right;\n",
       "    }\n",
       "</style>\n",
       "<table border=\"1\" class=\"dataframe\">\n",
       "  <thead>\n",
       "    <tr style=\"text-align: right;\">\n",
       "      <th></th>\n",
       "      <th>Text</th>\n",
       "    </tr>\n",
       "  </thead>\n",
       "  <tbody>\n",
       "    <tr>\n",
       "      <th>0</th>\n",
       "      <td>Sexhow railway station was a railway station b...</td>\n",
       "    </tr>\n",
       "    <tr>\n",
       "      <th>1</th>\n",
       "      <td>In Finnish folklore, all places and things, an...</td>\n",
       "    </tr>\n",
       "    <tr>\n",
       "      <th>2</th>\n",
       "      <td>In mathematics, specifically differential calc...</td>\n",
       "    </tr>\n",
       "    <tr>\n",
       "      <th>3</th>\n",
       "      <td>is a Japanese shōjo manga series written and i...</td>\n",
       "    </tr>\n",
       "    <tr>\n",
       "      <th>4</th>\n",
       "      <td>Robert Milner \"Rob\" Bradley, Jr. (born August ...</td>\n",
       "    </tr>\n",
       "    <tr>\n",
       "      <th>...</th>\n",
       "      <td>...</td>\n",
       "    </tr>\n",
       "    <tr>\n",
       "      <th>299995</th>\n",
       "      <td>Randy Borum is a Professor and Coordinator of ...</td>\n",
       "    </tr>\n",
       "    <tr>\n",
       "      <th>299996</th>\n",
       "      <td>Sa'och (, also, \"Sauch\") is an endangered, nuc...</td>\n",
       "    </tr>\n",
       "    <tr>\n",
       "      <th>299997</th>\n",
       "      <td>Philip C. Hanawalt (born 1931) is an American ...</td>\n",
       "    </tr>\n",
       "    <tr>\n",
       "      <th>299998</th>\n",
       "      <td>Vossius Gymnasium is a public gymnasium in the...</td>\n",
       "    </tr>\n",
       "    <tr>\n",
       "      <th>299999</th>\n",
       "      <td>Simone Stratigo (, Symeon Filippos Stratigos; ...</td>\n",
       "    </tr>\n",
       "  </tbody>\n",
       "</table>\n",
       "<p>300000 rows × 1 columns</p>\n",
       "</div>"
      ],
      "text/plain": [
       "                                                     Text\n",
       "0       Sexhow railway station was a railway station b...\n",
       "1       In Finnish folklore, all places and things, an...\n",
       "2       In mathematics, specifically differential calc...\n",
       "3       is a Japanese shōjo manga series written and i...\n",
       "4       Robert Milner \"Rob\" Bradley, Jr. (born August ...\n",
       "...                                                   ...\n",
       "299995  Randy Borum is a Professor and Coordinator of ...\n",
       "299996  Sa'och (, also, \"Sauch\") is an endangered, nuc...\n",
       "299997  Philip C. Hanawalt (born 1931) is an American ...\n",
       "299998  Vossius Gymnasium is a public gymnasium in the...\n",
       "299999  Simone Stratigo (, Symeon Filippos Stratigos; ...\n",
       "\n",
       "[300000 rows x 1 columns]"
      ]
     },
     "execution_count": 12,
     "metadata": {},
     "output_type": "execute_result"
    }
   ],
   "source": [
    "data"
   ]
  },
  {
   "cell_type": "code",
   "execution_count": 13,
   "id": "b9774ef8",
   "metadata": {},
   "outputs": [],
   "source": [
    "humans = ['Human'] * 150000"
   ]
  },
  {
   "cell_type": "code",
   "execution_count": 14,
   "id": "711dff8d",
   "metadata": {},
   "outputs": [],
   "source": [
    "gpt = ['GPT'] * 150000"
   ]
  },
  {
   "cell_type": "code",
   "execution_count": 15,
   "id": "911715af",
   "metadata": {},
   "outputs": [],
   "source": [
    "classes = humans + gpt"
   ]
  },
  {
   "cell_type": "code",
   "execution_count": 16,
   "id": "ff32cac6",
   "metadata": {},
   "outputs": [
    {
     "data": {
      "text/plain": [
       "300000"
      ]
     },
     "execution_count": 16,
     "metadata": {},
     "output_type": "execute_result"
    }
   ],
   "source": [
    "len(classes)"
   ]
  },
  {
   "cell_type": "code",
   "execution_count": 17,
   "id": "7903373d",
   "metadata": {},
   "outputs": [],
   "source": [
    "data['Class'] = classes"
   ]
  },
  {
   "cell_type": "code",
   "execution_count": 18,
   "id": "ce05e81d",
   "metadata": {},
   "outputs": [
    {
     "data": {
      "text/html": [
       "<div>\n",
       "<style scoped>\n",
       "    .dataframe tbody tr th:only-of-type {\n",
       "        vertical-align: middle;\n",
       "    }\n",
       "\n",
       "    .dataframe tbody tr th {\n",
       "        vertical-align: top;\n",
       "    }\n",
       "\n",
       "    .dataframe thead th {\n",
       "        text-align: right;\n",
       "    }\n",
       "</style>\n",
       "<table border=\"1\" class=\"dataframe\">\n",
       "  <thead>\n",
       "    <tr style=\"text-align: right;\">\n",
       "      <th></th>\n",
       "      <th>Text</th>\n",
       "      <th>Class</th>\n",
       "    </tr>\n",
       "  </thead>\n",
       "  <tbody>\n",
       "    <tr>\n",
       "      <th>0</th>\n",
       "      <td>Sexhow railway station was a railway station b...</td>\n",
       "      <td>Human</td>\n",
       "    </tr>\n",
       "    <tr>\n",
       "      <th>1</th>\n",
       "      <td>In Finnish folklore, all places and things, an...</td>\n",
       "      <td>Human</td>\n",
       "    </tr>\n",
       "    <tr>\n",
       "      <th>2</th>\n",
       "      <td>In mathematics, specifically differential calc...</td>\n",
       "      <td>Human</td>\n",
       "    </tr>\n",
       "    <tr>\n",
       "      <th>3</th>\n",
       "      <td>is a Japanese shōjo manga series written and i...</td>\n",
       "      <td>Human</td>\n",
       "    </tr>\n",
       "    <tr>\n",
       "      <th>4</th>\n",
       "      <td>Robert Milner \"Rob\" Bradley, Jr. (born August ...</td>\n",
       "      <td>Human</td>\n",
       "    </tr>\n",
       "    <tr>\n",
       "      <th>...</th>\n",
       "      <td>...</td>\n",
       "      <td>...</td>\n",
       "    </tr>\n",
       "    <tr>\n",
       "      <th>299995</th>\n",
       "      <td>Randy Borum is a Professor and Coordinator of ...</td>\n",
       "      <td>GPT</td>\n",
       "    </tr>\n",
       "    <tr>\n",
       "      <th>299996</th>\n",
       "      <td>Sa'och (, also, \"Sauch\") is an endangered, nuc...</td>\n",
       "      <td>GPT</td>\n",
       "    </tr>\n",
       "    <tr>\n",
       "      <th>299997</th>\n",
       "      <td>Philip C. Hanawalt (born 1931) is an American ...</td>\n",
       "      <td>GPT</td>\n",
       "    </tr>\n",
       "    <tr>\n",
       "      <th>299998</th>\n",
       "      <td>Vossius Gymnasium is a public gymnasium in the...</td>\n",
       "      <td>GPT</td>\n",
       "    </tr>\n",
       "    <tr>\n",
       "      <th>299999</th>\n",
       "      <td>Simone Stratigo (, Symeon Filippos Stratigos; ...</td>\n",
       "      <td>GPT</td>\n",
       "    </tr>\n",
       "  </tbody>\n",
       "</table>\n",
       "<p>300000 rows × 2 columns</p>\n",
       "</div>"
      ],
      "text/plain": [
       "                                                     Text  Class\n",
       "0       Sexhow railway station was a railway station b...  Human\n",
       "1       In Finnish folklore, all places and things, an...  Human\n",
       "2       In mathematics, specifically differential calc...  Human\n",
       "3       is a Japanese shōjo manga series written and i...  Human\n",
       "4       Robert Milner \"Rob\" Bradley, Jr. (born August ...  Human\n",
       "...                                                   ...    ...\n",
       "299995  Randy Borum is a Professor and Coordinator of ...    GPT\n",
       "299996  Sa'och (, also, \"Sauch\") is an endangered, nuc...    GPT\n",
       "299997  Philip C. Hanawalt (born 1931) is an American ...    GPT\n",
       "299998  Vossius Gymnasium is a public gymnasium in the...    GPT\n",
       "299999  Simone Stratigo (, Symeon Filippos Stratigos; ...    GPT\n",
       "\n",
       "[300000 rows x 2 columns]"
      ]
     },
     "execution_count": 18,
     "metadata": {},
     "output_type": "execute_result"
    }
   ],
   "source": [
    "data"
   ]
  },
  {
   "cell_type": "markdown",
   "id": "01ed8c49",
   "metadata": {},
   "source": [
    "### Subset of data"
   ]
  },
  {
   "cell_type": "markdown",
   "id": "b836e141",
   "metadata": {},
   "source": [
    "Using all 300000 data points to train even a simple model takes a long time. As such, I'll take a subset of data to apply to my baseline model"
   ]
  },
  {
   "cell_type": "code",
   "execution_count": 19,
   "id": "b73ae982",
   "metadata": {},
   "outputs": [],
   "source": [
    "subset = data.sample(n=10000, axis=0, random_state=3)"
   ]
  },
  {
   "cell_type": "code",
   "execution_count": 20,
   "id": "809e6bad",
   "metadata": {},
   "outputs": [
    {
     "data": {
      "text/plain": [
       "Human    5003\n",
       "GPT      4997\n",
       "Name: Class, dtype: int64"
      ]
     },
     "execution_count": 20,
     "metadata": {},
     "output_type": "execute_result"
    }
   ],
   "source": [
    "subset['Class'].value_counts()"
   ]
  },
  {
   "cell_type": "code",
   "execution_count": 21,
   "id": "778ac463",
   "metadata": {},
   "outputs": [],
   "source": [
    "vectorizer = CountVectorizer()"
   ]
  },
  {
   "cell_type": "code",
   "execution_count": 22,
   "id": "de51dd13",
   "metadata": {},
   "outputs": [],
   "source": [
    "X = vectorizer.fit_transform(subset['Text'])"
   ]
  },
  {
   "cell_type": "code",
   "execution_count": 23,
   "id": "f5dd6abb",
   "metadata": {},
   "outputs": [],
   "source": [
    "y = subset['Class'].to_numpy()"
   ]
  },
  {
   "cell_type": "code",
   "execution_count": 24,
   "id": "5a265ea9",
   "metadata": {},
   "outputs": [],
   "source": [
    "X_train, X_test, y_train, y_test = train_test_split(X, y, test_size=0.2, random_state=0)"
   ]
  },
  {
   "cell_type": "markdown",
   "id": "1f39f670",
   "metadata": {},
   "source": [
    "### 1 layer of 100 nodes"
   ]
  },
  {
   "cell_type": "code",
   "execution_count": 25,
   "id": "0cbb74d4",
   "metadata": {},
   "outputs": [],
   "source": [
    "mlp = MLPClassifier(verbose=True)"
   ]
  },
  {
   "cell_type": "code",
   "execution_count": 26,
   "id": "5d5c73e5",
   "metadata": {},
   "outputs": [
    {
     "name": "stdout",
     "output_type": "stream",
     "text": [
      "Iteration 1, loss = 0.41409888\n",
      "Iteration 2, loss = 0.07160375\n",
      "Iteration 3, loss = 0.01818894\n",
      "Iteration 4, loss = 0.00755935\n",
      "Iteration 5, loss = 0.00405087\n",
      "Iteration 6, loss = 0.00262048\n",
      "Iteration 7, loss = 0.00187419\n",
      "Iteration 8, loss = 0.00143601\n",
      "Iteration 9, loss = 0.00115586\n",
      "Iteration 10, loss = 0.00096697\n",
      "Iteration 11, loss = 0.00083347\n",
      "Iteration 12, loss = 0.00073547\n",
      "Iteration 13, loss = 0.00066121\n",
      "Iteration 14, loss = 0.00060321\n",
      "Iteration 15, loss = 0.00055711\n",
      "Iteration 16, loss = 0.00051998\n",
      "Iteration 17, loss = 0.00048904\n",
      "Iteration 18, loss = 0.00046332\n",
      "Iteration 19, loss = 0.00044162\n",
      "Iteration 20, loss = 0.00042277\n",
      "Iteration 21, loss = 0.00040646\n",
      "Iteration 22, loss = 0.00039214\n",
      "Training loss did not improve more than tol=0.000100 for 10 consecutive epochs. Stopping.\n"
     ]
    }
   ],
   "source": [
    "start = time.time()\n",
    "mlp.fit(X_train, y_train)\n",
    "stop = time.time()"
   ]
  },
  {
   "cell_type": "code",
   "execution_count": 27,
   "id": "305ac0f8",
   "metadata": {},
   "outputs": [],
   "source": [
    "accuracy = mlp.score(X_test, y_test)"
   ]
  },
  {
   "cell_type": "code",
   "execution_count": 28,
   "id": "6ed9cc71",
   "metadata": {},
   "outputs": [],
   "source": [
    "y_pred = mlp.predict(X_test)"
   ]
  },
  {
   "cell_type": "code",
   "execution_count": 29,
   "id": "3788c2cb",
   "metadata": {},
   "outputs": [
    {
     "name": "stdout",
     "output_type": "stream",
     "text": [
      "Training time: 274.55 seconds\n"
     ]
    }
   ],
   "source": [
    "print(f\"Training time: {stop - start:.2f} seconds\")"
   ]
  },
  {
   "cell_type": "code",
   "execution_count": 30,
   "id": "c3c56027",
   "metadata": {},
   "outputs": [
    {
     "data": {
      "text/plain": [
       "0.892"
      ]
     },
     "execution_count": 30,
     "metadata": {},
     "output_type": "execute_result"
    }
   ],
   "source": [
    "accuracy"
   ]
  },
  {
   "cell_type": "code",
   "execution_count": 31,
   "id": "af740e24",
   "metadata": {},
   "outputs": [
    {
     "name": "stdout",
     "output_type": "stream",
     "text": [
      "              precision    recall  f1-score   support\n",
      "\n",
      "         GPT       0.92      0.86      0.89      1022\n",
      "       Human       0.87      0.92      0.89       978\n",
      "\n",
      "    accuracy                           0.89      2000\n",
      "   macro avg       0.89      0.89      0.89      2000\n",
      "weighted avg       0.89      0.89      0.89      2000\n",
      "\n"
     ]
    }
   ],
   "source": [
    "print(classification_report(y_pred, y_test))"
   ]
  },
  {
   "cell_type": "code",
   "execution_count": 32,
   "id": "b51e9e06",
   "metadata": {
    "scrolled": true
   },
   "outputs": [
    {
     "name": "stdout",
     "output_type": "stream",
     "text": [
      "[[884 138]\n",
      " [ 78 900]]\n"
     ]
    }
   ],
   "source": [
    "print(confusion_matrix(y_pred, y_test))"
   ]
  },
  {
   "cell_type": "markdown",
   "id": "d058cdc7",
   "metadata": {},
   "source": [
    "This most basic model with the default parameters of a single layer of 100 nodes performs surprisingly well at 90.01%. The accuracy is affected by the data points choosen during the random sampling and distribution of classes within that sample. As such, resampling and retraining the model would likely result in a slightly different accuracy. "
   ]
  },
  {
   "cell_type": "markdown",
   "id": "97814471",
   "metadata": {},
   "source": [
    "### 2 layers of 100 nodes"
   ]
  },
  {
   "cell_type": "code",
   "execution_count": 33,
   "id": "df8cda38",
   "metadata": {},
   "outputs": [],
   "source": [
    "mlp2l = MLPClassifier(hidden_layer_sizes=(100,100,), verbose=True)"
   ]
  },
  {
   "cell_type": "code",
   "execution_count": 34,
   "id": "3763310e",
   "metadata": {},
   "outputs": [
    {
     "name": "stdout",
     "output_type": "stream",
     "text": [
      "Iteration 1, loss = 0.43224171\n",
      "Iteration 2, loss = 0.04735020\n",
      "Iteration 3, loss = 0.00558871\n",
      "Iteration 4, loss = 0.00158460\n",
      "Iteration 5, loss = 0.00087621\n",
      "Iteration 6, loss = 0.00054946\n",
      "Iteration 7, loss = 0.00035858\n",
      "Iteration 8, loss = 0.00024903\n",
      "Iteration 9, loss = 0.00020441\n",
      "Iteration 10, loss = 0.00018380\n",
      "Iteration 11, loss = 0.00017243\n",
      "Iteration 12, loss = 0.00016480\n",
      "Iteration 13, loss = 0.00015926\n",
      "Iteration 14, loss = 0.00015509\n",
      "Iteration 15, loss = 0.00015163\n",
      "Iteration 16, loss = 0.00014875\n",
      "Iteration 17, loss = 0.00014627\n",
      "Iteration 18, loss = 0.00014405\n",
      "Iteration 19, loss = 0.00014207\n",
      "Training loss did not improve more than tol=0.000100 for 10 consecutive epochs. Stopping.\n"
     ]
    }
   ],
   "source": [
    "start2l = time.time()\n",
    "mlp2l.fit(X_train, y_train)\n",
    "stop2l = time.time()"
   ]
  },
  {
   "cell_type": "code",
   "execution_count": 35,
   "id": "f6519f9d",
   "metadata": {},
   "outputs": [],
   "source": [
    "accuracy2l = mlp2l.score(X_test, y_test)"
   ]
  },
  {
   "cell_type": "code",
   "execution_count": 36,
   "id": "b3f85ed9",
   "metadata": {},
   "outputs": [],
   "source": [
    "y_pred2l = mlp2l.predict(X_test)"
   ]
  },
  {
   "cell_type": "code",
   "execution_count": 37,
   "id": "1804250d",
   "metadata": {},
   "outputs": [
    {
     "name": "stdout",
     "output_type": "stream",
     "text": [
      "Training time: 238.01 seconds\n"
     ]
    }
   ],
   "source": [
    "print(f\"Training time: {stop2l - start2l:.2f} seconds\")"
   ]
  },
  {
   "cell_type": "code",
   "execution_count": 38,
   "id": "45a8bca5",
   "metadata": {},
   "outputs": [
    {
     "data": {
      "text/plain": [
       "0.893"
      ]
     },
     "execution_count": 38,
     "metadata": {},
     "output_type": "execute_result"
    }
   ],
   "source": [
    "accuracy2l"
   ]
  },
  {
   "cell_type": "code",
   "execution_count": 39,
   "id": "cf93a9c8",
   "metadata": {},
   "outputs": [
    {
     "name": "stdout",
     "output_type": "stream",
     "text": [
      "              precision    recall  f1-score   support\n",
      "\n",
      "         GPT       0.93      0.86      0.89      1040\n",
      "       Human       0.86      0.93      0.89       960\n",
      "\n",
      "    accuracy                           0.89      2000\n",
      "   macro avg       0.89      0.89      0.89      2000\n",
      "weighted avg       0.90      0.89      0.89      2000\n",
      "\n"
     ]
    }
   ],
   "source": [
    "print(classification_report(y_pred2l, y_test))"
   ]
  },
  {
   "cell_type": "code",
   "execution_count": 40,
   "id": "450a3a74",
   "metadata": {
    "scrolled": true
   },
   "outputs": [
    {
     "name": "stdout",
     "output_type": "stream",
     "text": [
      "[[894 146]\n",
      " [ 68 892]]\n"
     ]
    }
   ],
   "source": [
    "print(confusion_matrix(y_pred2l, y_test))"
   ]
  },
  {
   "cell_type": "markdown",
   "id": "76c9a025",
   "metadata": {},
   "source": [
    "### 3 layers of 100 nodes"
   ]
  },
  {
   "cell_type": "code",
   "execution_count": 41,
   "id": "d50409e6",
   "metadata": {},
   "outputs": [],
   "source": [
    "mlp3l = MLPClassifier(hidden_layer_sizes=(100,100,100), verbose=True)"
   ]
  },
  {
   "cell_type": "code",
   "execution_count": 42,
   "id": "730a6129",
   "metadata": {},
   "outputs": [
    {
     "name": "stdout",
     "output_type": "stream",
     "text": [
      "Iteration 1, loss = 0.42039000\n",
      "Iteration 2, loss = 0.03827939\n",
      "Iteration 3, loss = 0.00308067\n",
      "Iteration 4, loss = 0.00076904\n",
      "Iteration 5, loss = 0.00038092\n",
      "Iteration 6, loss = 0.00027163\n",
      "Iteration 7, loss = 0.00021841\n",
      "Iteration 8, loss = 0.00018863\n",
      "Iteration 9, loss = 0.00017282\n",
      "Iteration 10, loss = 0.00016332\n",
      "Iteration 11, loss = 0.00015698\n",
      "Iteration 12, loss = 0.00015228\n",
      "Iteration 13, loss = 0.00014871\n",
      "Iteration 14, loss = 0.00014567\n",
      "Iteration 15, loss = 0.00014317\n",
      "Iteration 16, loss = 0.00014098\n",
      "Iteration 17, loss = 0.00013901\n",
      "Training loss did not improve more than tol=0.000100 for 10 consecutive epochs. Stopping.\n"
     ]
    }
   ],
   "source": [
    "start3l = time.time()\n",
    "mlp3l.fit(X_train, y_train)\n",
    "stop3l = time.time()"
   ]
  },
  {
   "cell_type": "code",
   "execution_count": 43,
   "id": "8cda110c",
   "metadata": {},
   "outputs": [],
   "source": [
    "accuracy3l = mlp3l.score(X_test, y_test)"
   ]
  },
  {
   "cell_type": "code",
   "execution_count": 44,
   "id": "ec3b8e38",
   "metadata": {},
   "outputs": [],
   "source": [
    "y_pred3l = mlp3l.predict(X_test)"
   ]
  },
  {
   "cell_type": "code",
   "execution_count": 45,
   "id": "dd35fd9f",
   "metadata": {},
   "outputs": [
    {
     "name": "stdout",
     "output_type": "stream",
     "text": [
      "Training time: 274.55 seconds\n"
     ]
    }
   ],
   "source": [
    "print(f\"Training time: {stop - start:.2f} seconds\")"
   ]
  },
  {
   "cell_type": "code",
   "execution_count": 46,
   "id": "ead1f2fc",
   "metadata": {},
   "outputs": [
    {
     "data": {
      "text/plain": [
       "0.8955"
      ]
     },
     "execution_count": 46,
     "metadata": {},
     "output_type": "execute_result"
    }
   ],
   "source": [
    "accuracy3l"
   ]
  },
  {
   "cell_type": "code",
   "execution_count": 47,
   "id": "67e57722",
   "metadata": {},
   "outputs": [
    {
     "name": "stdout",
     "output_type": "stream",
     "text": [
      "              precision    recall  f1-score   support\n",
      "\n",
      "         GPT       0.93      0.87      0.90      1029\n",
      "       Human       0.87      0.93      0.90       971\n",
      "\n",
      "    accuracy                           0.90      2000\n",
      "   macro avg       0.90      0.90      0.90      2000\n",
      "weighted avg       0.90      0.90      0.90      2000\n",
      "\n"
     ]
    }
   ],
   "source": [
    "print(classification_report(y_pred3l, y_test))"
   ]
  },
  {
   "cell_type": "code",
   "execution_count": 48,
   "id": "faa6f197",
   "metadata": {
    "scrolled": false
   },
   "outputs": [
    {
     "name": "stdout",
     "output_type": "stream",
     "text": [
      "[[891 138]\n",
      " [ 71 900]]\n"
     ]
    }
   ],
   "source": [
    "print(confusion_matrix(y_pred3l, y_test))"
   ]
  },
  {
   "cell_type": "markdown",
   "id": "ae63243c",
   "metadata": {},
   "source": [
    "### 4 layers of 100 nodes"
   ]
  },
  {
   "cell_type": "code",
   "execution_count": 49,
   "id": "eb1c3ee9",
   "metadata": {},
   "outputs": [],
   "source": [
    "mlp4l = MLPClassifier(hidden_layer_sizes=(100,100,100,100,), verbose=True)"
   ]
  },
  {
   "cell_type": "code",
   "execution_count": 50,
   "id": "dcbeaa6c",
   "metadata": {},
   "outputs": [
    {
     "name": "stdout",
     "output_type": "stream",
     "text": [
      "Iteration 1, loss = 0.39780059\n",
      "Iteration 2, loss = 0.03446934\n",
      "Iteration 3, loss = 0.00263124\n",
      "Iteration 4, loss = 0.00052959\n",
      "Iteration 5, loss = 0.00027068\n",
      "Iteration 6, loss = 0.00021068\n",
      "Iteration 7, loss = 0.00018869\n",
      "Iteration 8, loss = 0.00017752\n",
      "Iteration 9, loss = 0.00017026\n",
      "Iteration 10, loss = 0.00016516\n",
      "Iteration 11, loss = 0.00016134\n",
      "Iteration 12, loss = 0.00015828\n",
      "Iteration 13, loss = 0.00015546\n",
      "Iteration 14, loss = 0.00015311\n",
      "Iteration 15, loss = 0.00015109\n",
      "Iteration 16, loss = 0.00014932\n",
      "Training loss did not improve more than tol=0.000100 for 10 consecutive epochs. Stopping.\n"
     ]
    }
   ],
   "source": [
    "start4l = time.time()\n",
    "mlp4l.fit(X_train, y_train)\n",
    "stop4l = time.time()"
   ]
  },
  {
   "cell_type": "code",
   "execution_count": 51,
   "id": "499c0a77",
   "metadata": {},
   "outputs": [],
   "source": [
    "accuracy4l = mlp4l.score(X_test, y_test)"
   ]
  },
  {
   "cell_type": "code",
   "execution_count": 52,
   "id": "c13d0b25",
   "metadata": {},
   "outputs": [],
   "source": [
    "y_pred4l = mlp4l.predict(X_test)"
   ]
  },
  {
   "cell_type": "code",
   "execution_count": 53,
   "id": "6be4fd6a",
   "metadata": {},
   "outputs": [
    {
     "name": "stdout",
     "output_type": "stream",
     "text": [
      "Training time: 201.28 seconds\n"
     ]
    }
   ],
   "source": [
    "print(f\"Training time: {stop4l - start4l:.2f} seconds\")"
   ]
  },
  {
   "cell_type": "code",
   "execution_count": 54,
   "id": "fe61e2e3",
   "metadata": {},
   "outputs": [
    {
     "data": {
      "text/plain": [
       "0.8955"
      ]
     },
     "execution_count": 54,
     "metadata": {},
     "output_type": "execute_result"
    }
   ],
   "source": [
    "accuracy4l"
   ]
  },
  {
   "cell_type": "code",
   "execution_count": 55,
   "id": "a68c6b74",
   "metadata": {},
   "outputs": [
    {
     "name": "stdout",
     "output_type": "stream",
     "text": [
      "              precision    recall  f1-score   support\n",
      "\n",
      "         GPT       0.93      0.86      0.90      1037\n",
      "       Human       0.86      0.93      0.90       963\n",
      "\n",
      "    accuracy                           0.90      2000\n",
      "   macro avg       0.90      0.90      0.90      2000\n",
      "weighted avg       0.90      0.90      0.90      2000\n",
      "\n"
     ]
    }
   ],
   "source": [
    "print(classification_report(y_pred4l, y_test))"
   ]
  },
  {
   "cell_type": "code",
   "execution_count": 56,
   "id": "111ee333",
   "metadata": {
    "scrolled": false
   },
   "outputs": [
    {
     "name": "stdout",
     "output_type": "stream",
     "text": [
      "[[895 142]\n",
      " [ 67 896]]\n"
     ]
    }
   ],
   "source": [
    "print(confusion_matrix(y_pred4l, y_test))"
   ]
  },
  {
   "cell_type": "markdown",
   "id": "fcc52bfb",
   "metadata": {},
   "source": [
    "### 5 layers of 100 nodes"
   ]
  },
  {
   "cell_type": "code",
   "execution_count": 57,
   "id": "d9d455fd",
   "metadata": {},
   "outputs": [],
   "source": [
    "mlp5l = MLPClassifier(hidden_layer_sizes=(100,100,100,100,100,), verbose=True)"
   ]
  },
  {
   "cell_type": "code",
   "execution_count": 58,
   "id": "82c85bb9",
   "metadata": {},
   "outputs": [
    {
     "name": "stdout",
     "output_type": "stream",
     "text": [
      "Iteration 1, loss = 0.37336361\n",
      "Iteration 2, loss = 0.02698515\n",
      "Iteration 3, loss = 0.00143886\n",
      "Iteration 4, loss = 0.00080708\n",
      "Iteration 5, loss = 0.00031846\n",
      "Iteration 6, loss = 0.00023046\n",
      "Iteration 7, loss = 0.00021070\n",
      "Iteration 8, loss = 0.00019875\n",
      "Iteration 9, loss = 0.00018773\n",
      "Iteration 10, loss = 0.00017934\n",
      "Iteration 11, loss = 0.00017636\n",
      "Iteration 12, loss = 0.00017440\n",
      "Iteration 13, loss = 0.00017264\n",
      "Iteration 14, loss = 0.00017099\n",
      "Iteration 15, loss = 0.00016946\n",
      "Iteration 16, loss = 0.00016800\n",
      "Training loss did not improve more than tol=0.000100 for 10 consecutive epochs. Stopping.\n"
     ]
    }
   ],
   "source": [
    "start5l = time.time()\n",
    "mlp5l.fit(X_train, y_train)\n",
    "stop5l = time.time()"
   ]
  },
  {
   "cell_type": "code",
   "execution_count": 59,
   "id": "44174381",
   "metadata": {},
   "outputs": [],
   "source": [
    "accuracy5l = mlp5l.score(X_test, y_test)"
   ]
  },
  {
   "cell_type": "code",
   "execution_count": 60,
   "id": "39535509",
   "metadata": {},
   "outputs": [],
   "source": [
    "y_pred5l = mlp5l.predict(X_test)"
   ]
  },
  {
   "cell_type": "code",
   "execution_count": 61,
   "id": "46633255",
   "metadata": {},
   "outputs": [
    {
     "name": "stdout",
     "output_type": "stream",
     "text": [
      "Training time: 201.20 seconds\n"
     ]
    }
   ],
   "source": [
    "print(f\"Training time: {stop5l - start5l:.2f} seconds\")"
   ]
  },
  {
   "cell_type": "code",
   "execution_count": 62,
   "id": "b781e8aa",
   "metadata": {},
   "outputs": [
    {
     "data": {
      "text/plain": [
       "0.9045"
      ]
     },
     "execution_count": 62,
     "metadata": {},
     "output_type": "execute_result"
    }
   ],
   "source": [
    "accuracy5l"
   ]
  },
  {
   "cell_type": "code",
   "execution_count": 63,
   "id": "fc0a7240",
   "metadata": {},
   "outputs": [
    {
     "name": "stdout",
     "output_type": "stream",
     "text": [
      "              precision    recall  f1-score   support\n",
      "\n",
      "         GPT       0.90      0.90      0.90       961\n",
      "       Human       0.91      0.91      0.91      1039\n",
      "\n",
      "    accuracy                           0.90      2000\n",
      "   macro avg       0.90      0.90      0.90      2000\n",
      "weighted avg       0.90      0.90      0.90      2000\n",
      "\n"
     ]
    }
   ],
   "source": [
    "print(classification_report(y_pred5l, y_test))"
   ]
  },
  {
   "cell_type": "code",
   "execution_count": 64,
   "id": "8c6aa033",
   "metadata": {
    "scrolled": true
   },
   "outputs": [
    {
     "name": "stdout",
     "output_type": "stream",
     "text": [
      "[[866  95]\n",
      " [ 96 943]]\n"
     ]
    }
   ],
   "source": [
    "print(confusion_matrix(y_pred5l, y_test))"
   ]
  },
  {
   "cell_type": "code",
   "execution_count": 255,
   "id": "1f015e92",
   "metadata": {},
   "outputs": [],
   "source": [
    "x_axis=[1,2,3,4,5]\n",
    "y_axis=[accuracy,accuracy2l,accuracy3l,accuracy4l,accuracy5l]"
   ]
  },
  {
   "cell_type": "code",
   "execution_count": 256,
   "id": "1abee91c",
   "metadata": {},
   "outputs": [
    {
     "data": {
      "image/png": "[encoded data removed]",
      "text/plain": [
       "<Figure size 640x480 with 1 Axes>"
      ]
     },
     "metadata": {},
     "output_type": "display_data"
    }
   ],
   "source": [
    "plt.plot(x_axis, y_axis)\n",
    "plt.title('100 Nodes Per Layer')\n",
    "plt.xticks(range(1,6))\n",
    "plt.xlabel('Layers')\n",
    "plt.ylabel('Accuracy')\n",
    "plt.show()"
   ]
  },
  {
   "cell_type": "code",
   "execution_count": 260,
   "id": "dbd8370b",
   "metadata": {},
   "outputs": [
    {
     "data": {
      "text/plain": [
       "0.8961"
      ]
     },
     "execution_count": 260,
     "metadata": {},
     "output_type": "execute_result"
    }
   ],
   "source": [
    "mean(y_axis)"
   ]
  },
  {
   "cell_type": "markdown",
   "id": "1feb2df6",
   "metadata": {},
   "source": [
    "### 6 layers of 100 nodes"
   ]
  },
  {
   "cell_type": "code",
   "execution_count": 65,
   "id": "1785a191",
   "metadata": {},
   "outputs": [],
   "source": [
    "mlp6l = MLPClassifier(hidden_layer_sizes=(100,100,100,100,100,100,), verbose=True)"
   ]
  },
  {
   "cell_type": "code",
   "execution_count": 66,
   "id": "50118cf9",
   "metadata": {},
   "outputs": [
    {
     "name": "stdout",
     "output_type": "stream",
     "text": [
      "Iteration 1, loss = 0.40148694\n",
      "Iteration 2, loss = 0.04348769\n",
      "Iteration 3, loss = 0.00428017\n",
      "Iteration 4, loss = 0.00054531\n",
      "Iteration 5, loss = 0.00027092\n",
      "Iteration 6, loss = 0.00021682\n",
      "Iteration 7, loss = 0.00020787\n",
      "Iteration 8, loss = 0.00020393\n",
      "Iteration 9, loss = 0.00020096\n",
      "Iteration 10, loss = 0.00019847\n",
      "Iteration 11, loss = 0.00019622\n",
      "Iteration 12, loss = 0.00019410\n",
      "Iteration 13, loss = 0.00019211\n",
      "Iteration 14, loss = 0.00019025\n",
      "Iteration 15, loss = 0.00018847\n",
      "Iteration 16, loss = 0.00018675\n",
      "Training loss did not improve more than tol=0.000100 for 10 consecutive epochs. Stopping.\n"
     ]
    }
   ],
   "source": [
    "start6l = time.time()\n",
    "mlp6l.fit(X_train, y_train)\n",
    "stop6l = time.time()"
   ]
  },
  {
   "cell_type": "code",
   "execution_count": 67,
   "id": "ec388587",
   "metadata": {},
   "outputs": [],
   "source": [
    "accuracy6l = mlp6l.score(X_test, y_test)"
   ]
  },
  {
   "cell_type": "code",
   "execution_count": 68,
   "id": "643e6fa6",
   "metadata": {},
   "outputs": [],
   "source": [
    "y_pred6l = mlp6l.predict(X_test)"
   ]
  },
  {
   "cell_type": "code",
   "execution_count": 69,
   "id": "55963152",
   "metadata": {},
   "outputs": [
    {
     "name": "stdout",
     "output_type": "stream",
     "text": [
      "Training time: 199.75 seconds\n"
     ]
    }
   ],
   "source": [
    "print(f\"Training time: {stop6l - start6l:.2f} seconds\")"
   ]
  },
  {
   "cell_type": "code",
   "execution_count": 70,
   "id": "3ece0827",
   "metadata": {},
   "outputs": [
    {
     "data": {
      "text/plain": [
       "0.8945"
      ]
     },
     "execution_count": 70,
     "metadata": {},
     "output_type": "execute_result"
    }
   ],
   "source": [
    "accuracy6l"
   ]
  },
  {
   "cell_type": "code",
   "execution_count": 71,
   "id": "967058d5",
   "metadata": {},
   "outputs": [
    {
     "name": "stdout",
     "output_type": "stream",
     "text": [
      "              precision    recall  f1-score   support\n",
      "\n",
      "         GPT       0.90      0.88      0.89       987\n",
      "       Human       0.89      0.91      0.90      1013\n",
      "\n",
      "    accuracy                           0.89      2000\n",
      "   macro avg       0.89      0.89      0.89      2000\n",
      "weighted avg       0.89      0.89      0.89      2000\n",
      "\n"
     ]
    }
   ],
   "source": [
    "print(classification_report(y_pred6l, y_test))"
   ]
  },
  {
   "cell_type": "code",
   "execution_count": 72,
   "id": "e205ad14",
   "metadata": {
    "scrolled": true
   },
   "outputs": [
    {
     "name": "stdout",
     "output_type": "stream",
     "text": [
      "[[866  95]\n",
      " [ 96 943]]\n"
     ]
    }
   ],
   "source": [
    "print(confusion_matrix(y_pred5l, y_test))"
   ]
  },
  {
   "cell_type": "markdown",
   "id": "f76ff894",
   "metadata": {},
   "source": [
    "Instead of endlessly adding more layers, less also explore the result of adding more nodes per layer"
   ]
  },
  {
   "cell_type": "markdown",
   "id": "00aa9432",
   "metadata": {},
   "source": [
    "### 1 layer of 200 nodes"
   ]
  },
  {
   "cell_type": "code",
   "execution_count": 73,
   "id": "357d5e1b",
   "metadata": {},
   "outputs": [],
   "source": [
    "mlp1l200 = MLPClassifier(hidden_layer_sizes=(200,), verbose=True)"
   ]
  },
  {
   "cell_type": "code",
   "execution_count": 74,
   "id": "96f08e85",
   "metadata": {},
   "outputs": [
    {
     "name": "stdout",
     "output_type": "stream",
     "text": [
      "Iteration 1, loss = 0.41579959\n",
      "Iteration 2, loss = 0.06081531\n",
      "Iteration 3, loss = 0.01326140\n",
      "Iteration 4, loss = 0.00548226\n",
      "Iteration 5, loss = 0.00292481\n",
      "Iteration 6, loss = 0.00183475\n",
      "Iteration 7, loss = 0.00128673\n",
      "Iteration 8, loss = 0.00099223\n",
      "Iteration 9, loss = 0.00081983\n",
      "Iteration 10, loss = 0.00070957\n",
      "Iteration 11, loss = 0.00063488\n",
      "Iteration 12, loss = 0.00058134\n",
      "Iteration 13, loss = 0.00054206\n",
      "Iteration 14, loss = 0.00051118\n",
      "Iteration 15, loss = 0.00048676\n",
      "Iteration 16, loss = 0.00046633\n",
      "Iteration 17, loss = 0.00044882\n",
      "Iteration 18, loss = 0.00043360\n",
      "Iteration 19, loss = 0.00042015\n",
      "Iteration 20, loss = 0.00040801\n",
      "Iteration 21, loss = 0.00039703\n",
      "Training loss did not improve more than tol=0.000100 for 10 consecutive epochs. Stopping.\n"
     ]
    }
   ],
   "source": [
    "start1l200 = time.time()\n",
    "mlp1l200.fit(X_train, y_train)\n",
    "stop1l200 = time.time()"
   ]
  },
  {
   "cell_type": "code",
   "execution_count": 75,
   "id": "9cf734ff",
   "metadata": {},
   "outputs": [],
   "source": [
    "accuracy1l200 = mlp1l200.score(X_test, y_test)"
   ]
  },
  {
   "cell_type": "code",
   "execution_count": 76,
   "id": "057b993c",
   "metadata": {},
   "outputs": [],
   "source": [
    "y_pred1l200 = mlp.predict(X_test)"
   ]
  },
  {
   "cell_type": "code",
   "execution_count": 77,
   "id": "727e2c72",
   "metadata": {},
   "outputs": [
    {
     "name": "stdout",
     "output_type": "stream",
     "text": [
      "Training time: 545.03 seconds\n"
     ]
    }
   ],
   "source": [
    "print(f\"Training time: {stop1l200 - start1l200:.2f} seconds\")"
   ]
  },
  {
   "cell_type": "code",
   "execution_count": 78,
   "id": "65c93dd2",
   "metadata": {},
   "outputs": [
    {
     "data": {
      "text/plain": [
       "0.8915"
      ]
     },
     "execution_count": 78,
     "metadata": {},
     "output_type": "execute_result"
    }
   ],
   "source": [
    "accuracy1l200"
   ]
  },
  {
   "cell_type": "code",
   "execution_count": 79,
   "id": "87756fb1",
   "metadata": {},
   "outputs": [
    {
     "name": "stdout",
     "output_type": "stream",
     "text": [
      "              precision    recall  f1-score   support\n",
      "\n",
      "         GPT       0.92      0.86      0.89      1022\n",
      "       Human       0.87      0.92      0.89       978\n",
      "\n",
      "    accuracy                           0.89      2000\n",
      "   macro avg       0.89      0.89      0.89      2000\n",
      "weighted avg       0.89      0.89      0.89      2000\n",
      "\n"
     ]
    }
   ],
   "source": [
    "print(classification_report(y_pred1l200, y_test))"
   ]
  },
  {
   "cell_type": "code",
   "execution_count": 80,
   "id": "a789a5da",
   "metadata": {
    "scrolled": false
   },
   "outputs": [
    {
     "name": "stdout",
     "output_type": "stream",
     "text": [
      "[[884 138]\n",
      " [ 78 900]]\n"
     ]
    }
   ],
   "source": [
    "print(confusion_matrix(y_pred1l200, y_test))"
   ]
  },
  {
   "cell_type": "markdown",
   "id": "d5b23401",
   "metadata": {},
   "source": [
    "### 1 layer of 300 nodes"
   ]
  },
  {
   "cell_type": "code",
   "execution_count": 81,
   "id": "a2715abc",
   "metadata": {},
   "outputs": [],
   "source": [
    "mlp1l300 = MLPClassifier(hidden_layer_sizes=(300,), verbose=True)"
   ]
  },
  {
   "cell_type": "code",
   "execution_count": 82,
   "id": "28ce327a",
   "metadata": {},
   "outputs": [
    {
     "name": "stdout",
     "output_type": "stream",
     "text": [
      "Iteration 1, loss = 0.38841091\n",
      "Iteration 2, loss = 0.04301259\n",
      "Iteration 3, loss = 0.00856191\n",
      "Iteration 4, loss = 0.00360772\n",
      "Iteration 5, loss = 0.00202925\n",
      "Iteration 6, loss = 0.00130599\n",
      "Iteration 7, loss = 0.00097484\n",
      "Iteration 8, loss = 0.00080057\n",
      "Iteration 9, loss = 0.00069827\n",
      "Iteration 10, loss = 0.00063252\n",
      "Iteration 11, loss = 0.00058636\n",
      "Iteration 12, loss = 0.00055228\n",
      "Iteration 13, loss = 0.00052572\n",
      "Iteration 14, loss = 0.00050394\n",
      "Iteration 15, loss = 0.00048557\n",
      "Iteration 16, loss = 0.00046953\n",
      "Iteration 17, loss = 0.00045546\n",
      "Iteration 18, loss = 0.00044273\n",
      "Iteration 19, loss = 0.00043111\n",
      "Iteration 20, loss = 0.00042046\n",
      "Training loss did not improve more than tol=0.000100 for 10 consecutive epochs. Stopping.\n"
     ]
    }
   ],
   "source": [
    "start1l300 = time.time()\n",
    "mlp1l300.fit(X_train, y_train)\n",
    "stop1l300 = time.time()"
   ]
  },
  {
   "cell_type": "code",
   "execution_count": 83,
   "id": "8cb51fda",
   "metadata": {},
   "outputs": [],
   "source": [
    "accuracy1l300 = mlp1l300.score(X_test, y_test)"
   ]
  },
  {
   "cell_type": "code",
   "execution_count": 84,
   "id": "e8ce2ac9",
   "metadata": {},
   "outputs": [],
   "source": [
    "y_pred1l300 = mlp.predict(X_test)"
   ]
  },
  {
   "cell_type": "code",
   "execution_count": 85,
   "id": "e7582971",
   "metadata": {},
   "outputs": [
    {
     "name": "stdout",
     "output_type": "stream",
     "text": [
      "Training time: 838.71 seconds\n"
     ]
    }
   ],
   "source": [
    "print(f\"Training time: {stop1l300 - start1l300:.2f} seconds\")"
   ]
  },
  {
   "cell_type": "code",
   "execution_count": 86,
   "id": "0b60429c",
   "metadata": {},
   "outputs": [
    {
     "data": {
      "text/plain": [
       "0.896"
      ]
     },
     "execution_count": 86,
     "metadata": {},
     "output_type": "execute_result"
    }
   ],
   "source": [
    "accuracy1l300"
   ]
  },
  {
   "cell_type": "code",
   "execution_count": 87,
   "id": "343fac53",
   "metadata": {},
   "outputs": [
    {
     "name": "stdout",
     "output_type": "stream",
     "text": [
      "              precision    recall  f1-score   support\n",
      "\n",
      "         GPT       0.92      0.86      0.89      1022\n",
      "       Human       0.87      0.92      0.89       978\n",
      "\n",
      "    accuracy                           0.89      2000\n",
      "   macro avg       0.89      0.89      0.89      2000\n",
      "weighted avg       0.89      0.89      0.89      2000\n",
      "\n"
     ]
    }
   ],
   "source": [
    "print(classification_report(y_pred1l300, y_test))"
   ]
  },
  {
   "cell_type": "code",
   "execution_count": 88,
   "id": "af258a80",
   "metadata": {
    "scrolled": true
   },
   "outputs": [
    {
     "name": "stdout",
     "output_type": "stream",
     "text": [
      "[[884 138]\n",
      " [ 78 900]]\n"
     ]
    }
   ],
   "source": [
    "print(confusion_matrix(y_pred1l300, y_test))"
   ]
  },
  {
   "cell_type": "markdown",
   "id": "7755f6aa",
   "metadata": {},
   "source": [
    "Adding more layers to a single layer hurts the model. I'm curious to see what happens when I remove nodes from the original model."
   ]
  },
  {
   "cell_type": "markdown",
   "id": "d9dc9c5f",
   "metadata": {},
   "source": [
    "### 1 layer of 50 nodes"
   ]
  },
  {
   "cell_type": "code",
   "execution_count": 89,
   "id": "9e29a6cd",
   "metadata": {},
   "outputs": [],
   "source": [
    "mlp1l50 = MLPClassifier(hidden_layer_sizes=(50,), verbose=True)"
   ]
  },
  {
   "cell_type": "code",
   "execution_count": 90,
   "id": "e39b9d81",
   "metadata": {},
   "outputs": [
    {
     "name": "stdout",
     "output_type": "stream",
     "text": [
      "Iteration 1, loss = 0.44689741\n",
      "Iteration 2, loss = 0.10048897\n",
      "Iteration 3, loss = 0.03208169\n",
      "Iteration 4, loss = 0.01498861\n",
      "Iteration 5, loss = 0.00862042\n",
      "Iteration 6, loss = 0.00569372\n",
      "Iteration 7, loss = 0.00396174\n",
      "Iteration 8, loss = 0.00283998\n",
      "Iteration 9, loss = 0.00212887\n",
      "Iteration 10, loss = 0.00167199\n",
      "Iteration 11, loss = 0.00135953\n",
      "Iteration 12, loss = 0.00113925\n",
      "Iteration 13, loss = 0.00097894\n",
      "Iteration 14, loss = 0.00085785\n",
      "Iteration 15, loss = 0.00076433\n",
      "Iteration 16, loss = 0.00068984\n",
      "Iteration 17, loss = 0.00063128\n",
      "Iteration 18, loss = 0.00058264\n",
      "Iteration 19, loss = 0.00054244\n",
      "Iteration 20, loss = 0.00050866\n",
      "Iteration 21, loss = 0.00047998\n",
      "Iteration 22, loss = 0.00045536\n",
      "Iteration 23, loss = 0.00043406\n",
      "Iteration 24, loss = 0.00041550\n",
      "Iteration 25, loss = 0.00039905\n",
      "Training loss did not improve more than tol=0.000100 for 10 consecutive epochs. Stopping.\n"
     ]
    }
   ],
   "source": [
    "start1l50 = time.time()\n",
    "mlp1l50.fit(X_train, y_train)\n",
    "stop1l50 = time.time()"
   ]
  },
  {
   "cell_type": "code",
   "execution_count": 91,
   "id": "71df6d39",
   "metadata": {},
   "outputs": [],
   "source": [
    "accuracy1l50 = mlp1l50.score(X_test, y_test)"
   ]
  },
  {
   "cell_type": "code",
   "execution_count": 92,
   "id": "9722d641",
   "metadata": {},
   "outputs": [],
   "source": [
    "y_pred1l50 = mlp.predict(X_test)"
   ]
  },
  {
   "cell_type": "code",
   "execution_count": 93,
   "id": "94e45a4d",
   "metadata": {},
   "outputs": [
    {
     "name": "stdout",
     "output_type": "stream",
     "text": [
      "Training time: 162.36 seconds\n"
     ]
    }
   ],
   "source": [
    "print(f\"Training time: {stop1l50 - start1l50:.2f} seconds\")"
   ]
  },
  {
   "cell_type": "code",
   "execution_count": 94,
   "id": "a21122ef",
   "metadata": {
    "scrolled": true
   },
   "outputs": [
    {
     "data": {
      "text/plain": [
       "0.8895"
      ]
     },
     "execution_count": 94,
     "metadata": {},
     "output_type": "execute_result"
    }
   ],
   "source": [
    "accuracy1l50"
   ]
  },
  {
   "cell_type": "code",
   "execution_count": 95,
   "id": "a6878bab",
   "metadata": {},
   "outputs": [
    {
     "name": "stdout",
     "output_type": "stream",
     "text": [
      "              precision    recall  f1-score   support\n",
      "\n",
      "         GPT       0.92      0.86      0.89      1022\n",
      "       Human       0.87      0.92      0.89       978\n",
      "\n",
      "    accuracy                           0.89      2000\n",
      "   macro avg       0.89      0.89      0.89      2000\n",
      "weighted avg       0.89      0.89      0.89      2000\n",
      "\n"
     ]
    }
   ],
   "source": [
    "print(classification_report(y_pred1l50, y_test))"
   ]
  },
  {
   "cell_type": "code",
   "execution_count": 96,
   "id": "b98191fc",
   "metadata": {
    "scrolled": true
   },
   "outputs": [
    {
     "name": "stdout",
     "output_type": "stream",
     "text": [
      "[[884 138]\n",
      " [ 78 900]]\n"
     ]
    }
   ],
   "source": [
    "print(confusion_matrix(y_pred1l50, y_test))"
   ]
  },
  {
   "cell_type": "markdown",
   "id": "9b4a703a",
   "metadata": {},
   "source": [
    "Decreasing the node count from the original 100 predictably lowered accuracy but increasing it did the same. Lets seem if multiple layers of more nodes will preform better."
   ]
  },
  {
   "cell_type": "markdown",
   "id": "6528f985",
   "metadata": {},
   "source": [
    "### 2 layers of 200 nodes"
   ]
  },
  {
   "cell_type": "code",
   "execution_count": 97,
   "id": "56f500f7",
   "metadata": {},
   "outputs": [],
   "source": [
    "mlp2l200 = MLPClassifier(hidden_layer_sizes=(200,200,), verbose=True)"
   ]
  },
  {
   "cell_type": "code",
   "execution_count": 98,
   "id": "f27c8de5",
   "metadata": {},
   "outputs": [
    {
     "name": "stdout",
     "output_type": "stream",
     "text": [
      "Iteration 1, loss = 0.37862157\n",
      "Iteration 2, loss = 0.02923880\n",
      "Iteration 3, loss = 0.00447211\n",
      "Iteration 4, loss = 0.00099946\n",
      "Iteration 5, loss = 0.00055970\n",
      "Iteration 6, loss = 0.00041154\n",
      "Iteration 7, loss = 0.00034000\n",
      "Iteration 8, loss = 0.00030006\n",
      "Iteration 9, loss = 0.00027676\n",
      "Iteration 10, loss = 0.00026221\n",
      "Iteration 11, loss = 0.00025210\n",
      "Iteration 12, loss = 0.00024481\n",
      "Iteration 13, loss = 0.00023891\n",
      "Iteration 14, loss = 0.00023406\n",
      "Iteration 15, loss = 0.00022983\n",
      "Iteration 16, loss = 0.00022610\n",
      "Iteration 17, loss = 0.00022270\n",
      "Training loss did not improve more than tol=0.000100 for 10 consecutive epochs. Stopping.\n"
     ]
    }
   ],
   "source": [
    "start2l200 = time.time()\n",
    "mlp2l200.fit(X_train, y_train)\n",
    "stop2l200 = time.time()"
   ]
  },
  {
   "cell_type": "code",
   "execution_count": 99,
   "id": "f471076a",
   "metadata": {},
   "outputs": [],
   "source": [
    "accuracy2l200 = mlp2l200.score(X_test, y_test)"
   ]
  },
  {
   "cell_type": "code",
   "execution_count": 100,
   "id": "08e4629c",
   "metadata": {},
   "outputs": [],
   "source": [
    "y_pred2l200 = mlp.predict(X_test)"
   ]
  },
  {
   "cell_type": "code",
   "execution_count": 101,
   "id": "0d4d270e",
   "metadata": {},
   "outputs": [
    {
     "name": "stdout",
     "output_type": "stream",
     "text": [
      "Training time: 491.35 seconds\n"
     ]
    }
   ],
   "source": [
    "print(f\"Training time: {stop2l200 - start2l200:.2f} seconds\")"
   ]
  },
  {
   "cell_type": "code",
   "execution_count": 102,
   "id": "05d9cb52",
   "metadata": {
    "scrolled": true
   },
   "outputs": [
    {
     "data": {
      "text/plain": [
       "0.89"
      ]
     },
     "execution_count": 102,
     "metadata": {},
     "output_type": "execute_result"
    }
   ],
   "source": [
    "accuracy2l200"
   ]
  },
  {
   "cell_type": "code",
   "execution_count": 103,
   "id": "5491d0bf",
   "metadata": {},
   "outputs": [
    {
     "name": "stdout",
     "output_type": "stream",
     "text": [
      "              precision    recall  f1-score   support\n",
      "\n",
      "         GPT       0.92      0.86      0.89      1022\n",
      "       Human       0.87      0.92      0.89       978\n",
      "\n",
      "    accuracy                           0.89      2000\n",
      "   macro avg       0.89      0.89      0.89      2000\n",
      "weighted avg       0.89      0.89      0.89      2000\n",
      "\n"
     ]
    }
   ],
   "source": [
    "print(classification_report(y_pred2l200, y_test))"
   ]
  },
  {
   "cell_type": "code",
   "execution_count": 104,
   "id": "8b7c115c",
   "metadata": {
    "scrolled": false
   },
   "outputs": [
    {
     "name": "stdout",
     "output_type": "stream",
     "text": [
      "[[884 138]\n",
      " [ 78 900]]\n"
     ]
    }
   ],
   "source": [
    "print(confusion_matrix(y_pred2l200, y_test))"
   ]
  },
  {
   "cell_type": "markdown",
   "id": "44952161",
   "metadata": {},
   "source": [
    "### 3 layers of 200 nodes"
   ]
  },
  {
   "cell_type": "code",
   "execution_count": 133,
   "id": "9ee7eca7",
   "metadata": {},
   "outputs": [],
   "source": [
    "mlp3l200 = MLPClassifier(hidden_layer_sizes=(200,200,200,), verbose=True)"
   ]
  },
  {
   "cell_type": "code",
   "execution_count": 134,
   "id": "da743ba2",
   "metadata": {},
   "outputs": [
    {
     "name": "stdout",
     "output_type": "stream",
     "text": [
      "Iteration 1, loss = 0.37333308\n",
      "Iteration 2, loss = 0.02735626\n",
      "Iteration 3, loss = 0.00163188\n",
      "Iteration 4, loss = 0.00053890\n",
      "Iteration 5, loss = 0.00033432\n",
      "Iteration 6, loss = 0.00029265\n",
      "Iteration 7, loss = 0.00027923\n",
      "Iteration 8, loss = 0.00027155\n",
      "Iteration 9, loss = 0.00026614\n",
      "Iteration 10, loss = 0.00026176\n",
      "Iteration 11, loss = 0.00025801\n",
      "Iteration 12, loss = 0.00025457\n",
      "Iteration 13, loss = 0.00025118\n",
      "Iteration 14, loss = 0.00024811\n",
      "Iteration 15, loss = 0.00024535\n",
      "Iteration 16, loss = 0.00024276\n",
      "Training loss did not improve more than tol=0.000100 for 10 consecutive epochs. Stopping.\n"
     ]
    }
   ],
   "source": [
    "start3l200 = time.time()\n",
    "mlp3l200.fit(X_train, y_train)\n",
    "stop3l200 = time.time()"
   ]
  },
  {
   "cell_type": "code",
   "execution_count": 137,
   "id": "66572582",
   "metadata": {},
   "outputs": [],
   "source": [
    "accuracy3l200 = mlp3l200.score(X_test, y_test)"
   ]
  },
  {
   "cell_type": "code",
   "execution_count": 138,
   "id": "6076e509",
   "metadata": {},
   "outputs": [],
   "source": [
    "y_pred3l200 = mlp3l200.predict(X_test)"
   ]
  },
  {
   "cell_type": "code",
   "execution_count": 139,
   "id": "2dce59c9",
   "metadata": {},
   "outputs": [
    {
     "name": "stdout",
     "output_type": "stream",
     "text": [
      "Training time: 417.23 seconds\n"
     ]
    }
   ],
   "source": [
    "print(f\"Training time: {stop3l200 - start3l200:.2f} seconds\")"
   ]
  },
  {
   "cell_type": "code",
   "execution_count": 140,
   "id": "e5e69c4d",
   "metadata": {
    "scrolled": true
   },
   "outputs": [
    {
     "data": {
      "text/plain": [
       "0.889"
      ]
     },
     "execution_count": 140,
     "metadata": {},
     "output_type": "execute_result"
    }
   ],
   "source": [
    "accuracy3l200"
   ]
  },
  {
   "cell_type": "code",
   "execution_count": 141,
   "id": "f1934785",
   "metadata": {},
   "outputs": [
    {
     "name": "stdout",
     "output_type": "stream",
     "text": [
      "              precision    recall  f1-score   support\n",
      "\n",
      "         GPT       0.93      0.85      0.89      1058\n",
      "       Human       0.85      0.93      0.89       942\n",
      "\n",
      "    accuracy                           0.89      2000\n",
      "   macro avg       0.89      0.89      0.89      2000\n",
      "weighted avg       0.89      0.89      0.89      2000\n",
      "\n"
     ]
    }
   ],
   "source": [
    "print(classification_report(y_pred3l200, y_test))"
   ]
  },
  {
   "cell_type": "code",
   "execution_count": 142,
   "id": "dae20799",
   "metadata": {
    "scrolled": false
   },
   "outputs": [
    {
     "name": "stdout",
     "output_type": "stream",
     "text": [
      "[[899 159]\n",
      " [ 63 879]]\n"
     ]
    }
   ],
   "source": [
    "print(confusion_matrix(y_pred3l200, y_test))"
   ]
  },
  {
   "cell_type": "markdown",
   "id": "dc5eddf8",
   "metadata": {},
   "source": [
    "### 4 layers of 200 nodes"
   ]
  },
  {
   "cell_type": "code",
   "execution_count": 147,
   "id": "4f532dd8",
   "metadata": {},
   "outputs": [],
   "source": [
    "mlp4l200 = MLPClassifier(hidden_layer_sizes=(200,200,200,200,), verbose=True)"
   ]
  },
  {
   "cell_type": "code",
   "execution_count": 148,
   "id": "7a43e015",
   "metadata": {},
   "outputs": [
    {
     "name": "stdout",
     "output_type": "stream",
     "text": [
      "Iteration 1, loss = 0.36418194\n",
      "Iteration 2, loss = 0.02086079\n",
      "Iteration 3, loss = 0.00271048\n",
      "Iteration 4, loss = 0.00058638\n",
      "Iteration 5, loss = 0.00036106\n",
      "Iteration 6, loss = 0.00032079\n",
      "Iteration 7, loss = 0.00030003\n",
      "Iteration 8, loss = 0.00029086\n",
      "Iteration 9, loss = 0.00028684\n",
      "Iteration 10, loss = 0.00028362\n",
      "Iteration 11, loss = 0.00028063\n",
      "Iteration 12, loss = 0.00027779\n",
      "Iteration 13, loss = 0.00027506\n",
      "Iteration 14, loss = 0.00027243\n",
      "Iteration 15, loss = 0.00026986\n",
      "Iteration 16, loss = 0.00026738\n",
      "Training loss did not improve more than tol=0.000100 for 10 consecutive epochs. Stopping.\n"
     ]
    }
   ],
   "source": [
    "start4l200 = time.time()\n",
    "mlp4l200.fit(X_train, y_train)\n",
    "stop4l200 = time.time()"
   ]
  },
  {
   "cell_type": "code",
   "execution_count": 149,
   "id": "bf99cdc8",
   "metadata": {},
   "outputs": [],
   "source": [
    "accuracy4l200 = mlp4l200.score(X_test, y_test)"
   ]
  },
  {
   "cell_type": "code",
   "execution_count": 150,
   "id": "5e8b56b4",
   "metadata": {},
   "outputs": [],
   "source": [
    "y_pred4l200 = mlp4l200.predict(X_test)"
   ]
  },
  {
   "cell_type": "code",
   "execution_count": 151,
   "id": "9a40f8ee",
   "metadata": {},
   "outputs": [
    {
     "name": "stdout",
     "output_type": "stream",
     "text": [
      "Training time: 455.42 seconds\n"
     ]
    }
   ],
   "source": [
    "print(f\"Training time: {stop4l200 - start4l200:.2f} seconds\")"
   ]
  },
  {
   "cell_type": "code",
   "execution_count": 152,
   "id": "5231e560",
   "metadata": {
    "scrolled": true
   },
   "outputs": [
    {
     "data": {
      "text/plain": [
       "0.903"
      ]
     },
     "execution_count": 152,
     "metadata": {},
     "output_type": "execute_result"
    }
   ],
   "source": [
    "accuracy4l200"
   ]
  },
  {
   "cell_type": "code",
   "execution_count": 153,
   "id": "6db9f568",
   "metadata": {},
   "outputs": [
    {
     "name": "stdout",
     "output_type": "stream",
     "text": [
      "              precision    recall  f1-score   support\n",
      "\n",
      "         GPT       0.90      0.90      0.90       962\n",
      "       Human       0.91      0.91      0.91      1038\n",
      "\n",
      "    accuracy                           0.90      2000\n",
      "   macro avg       0.90      0.90      0.90      2000\n",
      "weighted avg       0.90      0.90      0.90      2000\n",
      "\n"
     ]
    }
   ],
   "source": [
    "print(classification_report(y_pred4l200, y_test))"
   ]
  },
  {
   "cell_type": "code",
   "execution_count": 154,
   "id": "58b92eaa",
   "metadata": {
    "scrolled": false
   },
   "outputs": [
    {
     "name": "stdout",
     "output_type": "stream",
     "text": [
      "[[865  97]\n",
      " [ 97 941]]\n"
     ]
    }
   ],
   "source": [
    "print(confusion_matrix(y_pred4l200, y_test))"
   ]
  },
  {
   "cell_type": "markdown",
   "id": "22d1eb5e",
   "metadata": {},
   "source": [
    "### 5 layers of 200 nodes"
   ]
  },
  {
   "cell_type": "code",
   "execution_count": 163,
   "id": "c851c95a",
   "metadata": {},
   "outputs": [],
   "source": [
    "mlp5l200 = MLPClassifier(hidden_layer_sizes=(200,200,200,200,200,), verbose=True)"
   ]
  },
  {
   "cell_type": "code",
   "execution_count": 164,
   "id": "dff82cf3",
   "metadata": {},
   "outputs": [
    {
     "name": "stdout",
     "output_type": "stream",
     "text": [
      "Iteration 1, loss = 0.36794391\n",
      "Iteration 2, loss = 0.02082986\n",
      "Iteration 3, loss = 0.00160213\n",
      "Iteration 4, loss = 0.00040361\n",
      "Iteration 5, loss = 0.00034677\n",
      "Iteration 6, loss = 0.00032772\n",
      "Iteration 7, loss = 0.00031753\n",
      "Iteration 8, loss = 0.00031020\n",
      "Iteration 9, loss = 0.00030492\n",
      "Iteration 10, loss = 0.00029981\n",
      "Iteration 11, loss = 0.00029545\n",
      "Iteration 12, loss = 0.00029210\n",
      "Iteration 13, loss = 0.00028897\n",
      "Iteration 14, loss = 0.00028597\n",
      "Iteration 15, loss = 0.00028309\n",
      "Training loss did not improve more than tol=0.000100 for 10 consecutive epochs. Stopping.\n"
     ]
    }
   ],
   "source": [
    "start5l200 = time.time()\n",
    "mlp5l200.fit(X_train, y_train)\n",
    "stop5l200 = time.time()"
   ]
  },
  {
   "cell_type": "code",
   "execution_count": 168,
   "id": "fb3db1f6",
   "metadata": {},
   "outputs": [],
   "source": [
    "accuracy5l200 = mlp5l200.score(X_test, y_test)"
   ]
  },
  {
   "cell_type": "code",
   "execution_count": 169,
   "id": "b7169fb9",
   "metadata": {},
   "outputs": [],
   "source": [
    "y_pred5l200 = mlp5l200.predict(X_test)"
   ]
  },
  {
   "cell_type": "code",
   "execution_count": 170,
   "id": "e0c6fbac",
   "metadata": {},
   "outputs": [
    {
     "name": "stdout",
     "output_type": "stream",
     "text": [
      "Training time: 411.34 seconds\n"
     ]
    }
   ],
   "source": [
    "print(f\"Training time: {stop5l200 - start5l200:.2f} seconds\")"
   ]
  },
  {
   "cell_type": "code",
   "execution_count": 171,
   "id": "e60f6a46",
   "metadata": {
    "scrolled": true
   },
   "outputs": [
    {
     "data": {
      "text/plain": [
       "0.8975"
      ]
     },
     "execution_count": 171,
     "metadata": {},
     "output_type": "execute_result"
    }
   ],
   "source": [
    "accuracy5l200"
   ]
  },
  {
   "cell_type": "code",
   "execution_count": 172,
   "id": "c3ef6bcd",
   "metadata": {},
   "outputs": [
    {
     "name": "stdout",
     "output_type": "stream",
     "text": [
      "              precision    recall  f1-score   support\n",
      "\n",
      "         GPT       0.89      0.90      0.89       957\n",
      "       Human       0.90      0.90      0.90      1043\n",
      "\n",
      "    accuracy                           0.90      2000\n",
      "   macro avg       0.90      0.90      0.90      2000\n",
      "weighted avg       0.90      0.90      0.90      2000\n",
      "\n"
     ]
    }
   ],
   "source": [
    "print(classification_report(y_pred5l200, y_test))"
   ]
  },
  {
   "cell_type": "code",
   "execution_count": 173,
   "id": "7d0575b7",
   "metadata": {
    "scrolled": false
   },
   "outputs": [
    {
     "name": "stdout",
     "output_type": "stream",
     "text": [
      "[[857 100]\n",
      " [105 938]]\n"
     ]
    }
   ],
   "source": [
    "print(confusion_matrix(y_pred5l200, y_test))"
   ]
  },
  {
   "cell_type": "code",
   "execution_count": 261,
   "id": "a05d13a8",
   "metadata": {},
   "outputs": [],
   "source": [
    "x_axis=[1,2,3,4,5]\n",
    "y_axis=[accuracy1l200,accuracy2l200,accuracy3l200,accuracy4l200,accuracy5l200]"
   ]
  },
  {
   "cell_type": "code",
   "execution_count": 262,
   "id": "82e301d3",
   "metadata": {},
   "outputs": [
    {
     "data": {
      "image/png": "[encoded data removed]",
      "text/plain": [
       "<Figure size 640x480 with 1 Axes>"
      ]
     },
     "metadata": {},
     "output_type": "display_data"
    }
   ],
   "source": [
    "plt.plot(x_axis, y_axis)\n",
    "plt.title('200 Nodes Per Layer')\n",
    "plt.xticks(range(1,6))\n",
    "plt.xlabel('Layers')\n",
    "plt.ylabel('Accuracy')\n",
    "plt.show()"
   ]
  },
  {
   "cell_type": "code",
   "execution_count": 263,
   "id": "4c001759",
   "metadata": {},
   "outputs": [
    {
     "data": {
      "text/plain": [
       "0.8942"
      ]
     },
     "execution_count": 263,
     "metadata": {},
     "output_type": "execute_result"
    }
   ],
   "source": [
    "mean(y_axis)"
   ]
  },
  {
   "cell_type": "markdown",
   "id": "deac45dd",
   "metadata": {},
   "source": [
    "### 2 layers of 300 nodes"
   ]
  },
  {
   "cell_type": "code",
   "execution_count": 155,
   "id": "085af7bd",
   "metadata": {},
   "outputs": [],
   "source": [
    "mlp2l300 = MLPClassifier(hidden_layer_sizes=(300,300,), verbose=True)"
   ]
  },
  {
   "cell_type": "code",
   "execution_count": 156,
   "id": "5fc9e233",
   "metadata": {},
   "outputs": [
    {
     "name": "stdout",
     "output_type": "stream",
     "text": [
      "Iteration 1, loss = 0.36121106\n",
      "Iteration 2, loss = 0.02681535\n",
      "Iteration 3, loss = 0.00231895\n",
      "Iteration 4, loss = 0.00086035\n",
      "Iteration 5, loss = 0.00059569\n",
      "Iteration 6, loss = 0.00049110\n",
      "Iteration 7, loss = 0.00043508\n",
      "Iteration 8, loss = 0.00039961\n",
      "Iteration 9, loss = 0.00037483\n",
      "Iteration 10, loss = 0.00035649\n",
      "Iteration 11, loss = 0.00034200\n",
      "Iteration 12, loss = 0.00033123\n",
      "Iteration 13, loss = 0.00032281\n",
      "Iteration 14, loss = 0.00031588\n",
      "Iteration 15, loss = 0.00030991\n",
      "Iteration 16, loss = 0.00030466\n",
      "Iteration 17, loss = 0.00029987\n",
      "Training loss did not improve more than tol=0.000100 for 10 consecutive epochs. Stopping.\n"
     ]
    }
   ],
   "source": [
    "start2l300 = time.time()\n",
    "mlp2l300.fit(X_train, y_train)\n",
    "stop2l300 = time.time()"
   ]
  },
  {
   "cell_type": "code",
   "execution_count": 157,
   "id": "30fd59cf",
   "metadata": {},
   "outputs": [],
   "source": [
    "accuracy2l300 = mlp2l300.score(X_test, y_test)"
   ]
  },
  {
   "cell_type": "code",
   "execution_count": 158,
   "id": "c62b33f6",
   "metadata": {},
   "outputs": [],
   "source": [
    "y_pred2l300 = mlp2l300.predict(X_test)"
   ]
  },
  {
   "cell_type": "code",
   "execution_count": 159,
   "id": "8f82e7d5",
   "metadata": {},
   "outputs": [
    {
     "name": "stdout",
     "output_type": "stream",
     "text": [
      "Training time: 687.31 seconds\n"
     ]
    }
   ],
   "source": [
    "print(f\"Training time: {stop2l300 - start2l300:.2f} seconds\")"
   ]
  },
  {
   "cell_type": "code",
   "execution_count": 160,
   "id": "08c0f594",
   "metadata": {
    "scrolled": true
   },
   "outputs": [
    {
     "data": {
      "text/plain": [
       "0.8905"
      ]
     },
     "execution_count": 160,
     "metadata": {},
     "output_type": "execute_result"
    }
   ],
   "source": [
    "accuracy2l300"
   ]
  },
  {
   "cell_type": "code",
   "execution_count": 161,
   "id": "f98738c9",
   "metadata": {},
   "outputs": [
    {
     "name": "stdout",
     "output_type": "stream",
     "text": [
      "              precision    recall  f1-score   support\n",
      "\n",
      "         GPT       0.92      0.86      0.89      1027\n",
      "       Human       0.86      0.92      0.89       973\n",
      "\n",
      "    accuracy                           0.89      2000\n",
      "   macro avg       0.89      0.89      0.89      2000\n",
      "weighted avg       0.89      0.89      0.89      2000\n",
      "\n"
     ]
    }
   ],
   "source": [
    "print(classification_report(y_pred2l300, y_test))"
   ]
  },
  {
   "cell_type": "code",
   "execution_count": 162,
   "id": "4cb187cf",
   "metadata": {
    "scrolled": false
   },
   "outputs": [
    {
     "name": "stdout",
     "output_type": "stream",
     "text": [
      "[[885 142]\n",
      " [ 77 896]]\n"
     ]
    }
   ],
   "source": [
    "print(confusion_matrix(y_pred2l300, y_test))"
   ]
  },
  {
   "cell_type": "markdown",
   "id": "0628dbc0",
   "metadata": {},
   "source": [
    "### 3 layers of 300 nodes"
   ]
  },
  {
   "cell_type": "code",
   "execution_count": 174,
   "id": "6704e744",
   "metadata": {},
   "outputs": [],
   "source": [
    "mlp3l300 = MLPClassifier(hidden_layer_sizes=(300,300,300,), verbose=True)"
   ]
  },
  {
   "cell_type": "code",
   "execution_count": 175,
   "id": "fb3a1de1",
   "metadata": {},
   "outputs": [
    {
     "name": "stdout",
     "output_type": "stream",
     "text": [
      "Iteration 1, loss = 0.37339865\n",
      "Iteration 2, loss = 0.02596167\n",
      "Iteration 3, loss = 0.00128840\n",
      "Iteration 4, loss = 0.00053013\n",
      "Iteration 5, loss = 0.00043529\n",
      "Iteration 6, loss = 0.00039989\n",
      "Iteration 7, loss = 0.00038094\n",
      "Iteration 8, loss = 0.00036928\n",
      "Iteration 9, loss = 0.00036097\n",
      "Iteration 10, loss = 0.00035457\n",
      "Iteration 11, loss = 0.00034920\n",
      "Iteration 12, loss = 0.00034446\n",
      "Iteration 13, loss = 0.00034007\n",
      "Iteration 14, loss = 0.00033598\n",
      "Iteration 15, loss = 0.00033209\n",
      "Training loss did not improve more than tol=0.000100 for 10 consecutive epochs. Stopping.\n"
     ]
    }
   ],
   "source": [
    "start3l300 = time.time()\n",
    "mlp3l300.fit(X_train, y_train)\n",
    "stop3l300 = time.time()"
   ]
  },
  {
   "cell_type": "code",
   "execution_count": 176,
   "id": "8e7c4fb8",
   "metadata": {},
   "outputs": [],
   "source": [
    "accuracy3l300 = mlp3l300.score(X_test, y_test)"
   ]
  },
  {
   "cell_type": "code",
   "execution_count": 177,
   "id": "1130ab6c",
   "metadata": {},
   "outputs": [],
   "source": [
    "y_pred3l300 = mlp3l300.predict(X_test)"
   ]
  },
  {
   "cell_type": "code",
   "execution_count": 178,
   "id": "eff3bea5",
   "metadata": {},
   "outputs": [
    {
     "name": "stdout",
     "output_type": "stream",
     "text": [
      "Training time: 602.54 seconds\n"
     ]
    }
   ],
   "source": [
    "print(f\"Training time: {stop3l300 - start3l300:.2f} seconds\")"
   ]
  },
  {
   "cell_type": "code",
   "execution_count": 179,
   "id": "e1f38583",
   "metadata": {
    "scrolled": true
   },
   "outputs": [
    {
     "data": {
      "text/plain": [
       "0.9025"
      ]
     },
     "execution_count": 179,
     "metadata": {},
     "output_type": "execute_result"
    }
   ],
   "source": [
    "accuracy3l300"
   ]
  },
  {
   "cell_type": "code",
   "execution_count": 180,
   "id": "45bdf2c5",
   "metadata": {},
   "outputs": [
    {
     "name": "stdout",
     "output_type": "stream",
     "text": [
      "              precision    recall  f1-score   support\n",
      "\n",
      "         GPT       0.91      0.89      0.90       977\n",
      "       Human       0.90      0.91      0.91      1023\n",
      "\n",
      "    accuracy                           0.90      2000\n",
      "   macro avg       0.90      0.90      0.90      2000\n",
      "weighted avg       0.90      0.90      0.90      2000\n",
      "\n"
     ]
    }
   ],
   "source": [
    "print(classification_report(y_pred3l300, y_test))"
   ]
  },
  {
   "cell_type": "code",
   "execution_count": 181,
   "id": "1b901039",
   "metadata": {
    "scrolled": false
   },
   "outputs": [
    {
     "name": "stdout",
     "output_type": "stream",
     "text": [
      "[[872 105]\n",
      " [ 90 933]]\n"
     ]
    }
   ],
   "source": [
    "print(confusion_matrix(y_pred3l300, y_test))"
   ]
  },
  {
   "cell_type": "markdown",
   "id": "fedf5c9d",
   "metadata": {},
   "source": [
    "### 4 layers with 300 nodes"
   ]
  },
  {
   "cell_type": "code",
   "execution_count": 182,
   "id": "b7c30883",
   "metadata": {},
   "outputs": [],
   "source": [
    "mlp4l300 = MLPClassifier(hidden_layer_sizes=(300,300,300,300,), verbose=True)"
   ]
  },
  {
   "cell_type": "code",
   "execution_count": 183,
   "id": "aa4b18e7",
   "metadata": {},
   "outputs": [
    {
     "name": "stdout",
     "output_type": "stream",
     "text": [
      "Iteration 1, loss = 0.34949949\n",
      "Iteration 2, loss = 0.01520057\n",
      "Iteration 3, loss = 0.00189940\n",
      "Iteration 4, loss = 0.00121061\n",
      "Iteration 5, loss = 0.00047092\n",
      "Iteration 6, loss = 0.00044344\n",
      "Iteration 7, loss = 0.00042269\n",
      "Iteration 8, loss = 0.00040751\n",
      "Iteration 9, loss = 0.00040040\n",
      "Iteration 10, loss = 0.00039481\n",
      "Iteration 11, loss = 0.00038985\n",
      "Iteration 12, loss = 0.00038521\n",
      "Iteration 13, loss = 0.00038083\n",
      "Iteration 14, loss = 0.00037664\n",
      "Iteration 15, loss = 0.00037262\n",
      "Iteration 16, loss = 0.00036875\n",
      "Training loss did not improve more than tol=0.000100 for 10 consecutive epochs. Stopping.\n"
     ]
    }
   ],
   "source": [
    "start4l300 = time.time()\n",
    "mlp4l300.fit(X_train, y_train)\n",
    "stop4l300 = time.time()"
   ]
  },
  {
   "cell_type": "code",
   "execution_count": 184,
   "id": "8fe9cb59",
   "metadata": {},
   "outputs": [],
   "source": [
    "accuracy4l300 = mlp4l300.score(X_test, y_test)"
   ]
  },
  {
   "cell_type": "code",
   "execution_count": 185,
   "id": "0b5968ab",
   "metadata": {},
   "outputs": [],
   "source": [
    "y_pred4l300 = mlp4l300.predict(X_test)"
   ]
  },
  {
   "cell_type": "code",
   "execution_count": 186,
   "id": "4ec40cbf",
   "metadata": {},
   "outputs": [
    {
     "name": "stdout",
     "output_type": "stream",
     "text": [
      "Training time: 625.13 seconds\n"
     ]
    }
   ],
   "source": [
    "print(f\"Training time: {stop4l300 - start4l300:.2f} seconds\")"
   ]
  },
  {
   "cell_type": "code",
   "execution_count": 187,
   "id": "19ed66a0",
   "metadata": {
    "scrolled": true
   },
   "outputs": [
    {
     "data": {
      "text/plain": [
       "0.8985"
      ]
     },
     "execution_count": 187,
     "metadata": {},
     "output_type": "execute_result"
    }
   ],
   "source": [
    "accuracy4l300"
   ]
  },
  {
   "cell_type": "code",
   "execution_count": 188,
   "id": "6cf47a4e",
   "metadata": {},
   "outputs": [
    {
     "name": "stdout",
     "output_type": "stream",
     "text": [
      "              precision    recall  f1-score   support\n",
      "\n",
      "         GPT       0.90      0.89      0.90       981\n",
      "       Human       0.89      0.91      0.90      1019\n",
      "\n",
      "    accuracy                           0.90      2000\n",
      "   macro avg       0.90      0.90      0.90      2000\n",
      "weighted avg       0.90      0.90      0.90      2000\n",
      "\n"
     ]
    }
   ],
   "source": [
    "print(classification_report(y_pred4l300, y_test))"
   ]
  },
  {
   "cell_type": "code",
   "execution_count": 189,
   "id": "f41b6f5c",
   "metadata": {
    "scrolled": false
   },
   "outputs": [
    {
     "name": "stdout",
     "output_type": "stream",
     "text": [
      "[[870 111]\n",
      " [ 92 927]]\n"
     ]
    }
   ],
   "source": [
    "print(confusion_matrix(y_pred4l300, y_test))"
   ]
  },
  {
   "cell_type": "markdown",
   "id": "b499c837",
   "metadata": {},
   "source": [
    "### 5 layers with 300 nodes"
   ]
  },
  {
   "cell_type": "code",
   "execution_count": 190,
   "id": "908da658",
   "metadata": {},
   "outputs": [],
   "source": [
    "mlp5l300 = MLPClassifier(hidden_layer_sizes=(300,300,300,300,300,), verbose=True)"
   ]
  },
  {
   "cell_type": "code",
   "execution_count": 191,
   "id": "434b49f4",
   "metadata": {},
   "outputs": [
    {
     "name": "stdout",
     "output_type": "stream",
     "text": [
      "Iteration 1, loss = 0.36810153\n",
      "Iteration 2, loss = 0.02508842\n",
      "Iteration 3, loss = 0.00232254\n",
      "Iteration 4, loss = 0.00056420\n",
      "Iteration 5, loss = 0.00046099\n",
      "Iteration 6, loss = 0.00044143\n",
      "Iteration 7, loss = 0.00043368\n",
      "Iteration 8, loss = 0.00042766\n",
      "Iteration 9, loss = 0.00042220\n",
      "Iteration 10, loss = 0.00041709\n",
      "Iteration 11, loss = 0.00041225\n",
      "Iteration 12, loss = 0.00040762\n",
      "Iteration 13, loss = 0.00040317\n",
      "Iteration 14, loss = 0.00039888\n",
      "Iteration 15, loss = 0.00039473\n",
      "Iteration 16, loss = 0.00039070\n",
      "Training loss did not improve more than tol=0.000100 for 10 consecutive epochs. Stopping.\n"
     ]
    }
   ],
   "source": [
    "start5l300 = time.time()\n",
    "mlp5l300.fit(X_train, y_train)\n",
    "stop5l300 = time.time()"
   ]
  },
  {
   "cell_type": "code",
   "execution_count": 192,
   "id": "3396bbbe",
   "metadata": {},
   "outputs": [],
   "source": [
    "accuracy5l300 = mlp5l300.score(X_test, y_test)"
   ]
  },
  {
   "cell_type": "code",
   "execution_count": 193,
   "id": "2584ce03",
   "metadata": {},
   "outputs": [],
   "source": [
    "y_pred5l300 = mlp5l300.predict(X_test)"
   ]
  },
  {
   "cell_type": "code",
   "execution_count": 194,
   "id": "831d9d7d",
   "metadata": {},
   "outputs": [
    {
     "name": "stdout",
     "output_type": "stream",
     "text": [
      "Training time: 643.84 seconds\n"
     ]
    }
   ],
   "source": [
    "print(f\"Training time: {stop5l300 - start5l300:.2f} seconds\")"
   ]
  },
  {
   "cell_type": "code",
   "execution_count": 195,
   "id": "eeb64b26",
   "metadata": {
    "scrolled": true
   },
   "outputs": [
    {
     "data": {
      "text/plain": [
       "0.9135"
      ]
     },
     "execution_count": 195,
     "metadata": {},
     "output_type": "execute_result"
    }
   ],
   "source": [
    "accuracy5l300"
   ]
  },
  {
   "cell_type": "code",
   "execution_count": 196,
   "id": "faddbcb0",
   "metadata": {},
   "outputs": [
    {
     "name": "stdout",
     "output_type": "stream",
     "text": [
      "              precision    recall  f1-score   support\n",
      "\n",
      "         GPT       0.90      0.92      0.91       941\n",
      "       Human       0.93      0.91      0.92      1059\n",
      "\n",
      "    accuracy                           0.91      2000\n",
      "   macro avg       0.91      0.91      0.91      2000\n",
      "weighted avg       0.91      0.91      0.91      2000\n",
      "\n"
     ]
    }
   ],
   "source": [
    "print(classification_report(y_pred5l300, y_test))"
   ]
  },
  {
   "cell_type": "code",
   "execution_count": 197,
   "id": "3ddd8b6d",
   "metadata": {
    "scrolled": false
   },
   "outputs": [
    {
     "name": "stdout",
     "output_type": "stream",
     "text": [
      "[[865  76]\n",
      " [ 97 962]]\n"
     ]
    }
   ],
   "source": [
    "print(confusion_matrix(y_pred5l300, y_test))"
   ]
  },
  {
   "cell_type": "code",
   "execution_count": 205,
   "id": "9f8b6dd6",
   "metadata": {},
   "outputs": [],
   "source": [
    "x_axis=[1,2,3,4,5]\n",
    "y_axis=[accuracy1l300,accuracy2l300,accuracy3l300,accuracy4l300,accuracy5l300]"
   ]
  },
  {
   "cell_type": "code",
   "execution_count": 216,
   "id": "ab673ab8",
   "metadata": {},
   "outputs": [
    {
     "data": {
      "image/png": "[encoded data removed]",
      "text/plain": [
       "<Figure size 640x480 with 1 Axes>"
      ]
     },
     "metadata": {},
     "output_type": "display_data"
    }
   ],
   "source": [
    "plt.plot(x_axis, y_axis)\n",
    "plt.title('300 Nodes Per Layer')\n",
    "plt.xticks(range(1,6))\n",
    "plt.xlabel('Layers')\n",
    "plt.ylabel('Accuracy')\n",
    "plt.show()"
   ]
  },
  {
   "cell_type": "markdown",
   "id": "8b3aba38",
   "metadata": {},
   "source": [
    "### 1 layer of 500 nodes"
   ]
  },
  {
   "cell_type": "code",
   "execution_count": 207,
   "id": "8cfdcb49",
   "metadata": {},
   "outputs": [],
   "source": [
    "mlp1l500 = MLPClassifier(hidden_layer_sizes=(500,), verbose=True)"
   ]
  },
  {
   "cell_type": "code",
   "execution_count": 208,
   "id": "37b108ab",
   "metadata": {},
   "outputs": [
    {
     "name": "stdout",
     "output_type": "stream",
     "text": [
      "Iteration 1, loss = 0.36805012\n",
      "Iteration 2, loss = 0.03082933\n",
      "Iteration 3, loss = 0.00701822\n",
      "Iteration 4, loss = 0.00313570\n",
      "Iteration 5, loss = 0.00195938\n",
      "Iteration 6, loss = 0.00142192\n",
      "Iteration 7, loss = 0.00112655\n",
      "Iteration 8, loss = 0.00095445\n",
      "Iteration 9, loss = 0.00084614\n",
      "Iteration 10, loss = 0.00077330\n",
      "Iteration 11, loss = 0.00072149\n",
      "Iteration 12, loss = 0.00068257\n",
      "Iteration 13, loss = 0.00065090\n",
      "Iteration 14, loss = 0.00062500\n",
      "Iteration 15, loss = 0.00060256\n",
      "Iteration 16, loss = 0.00058292\n",
      "Iteration 17, loss = 0.00056553\n",
      "Iteration 18, loss = 0.00054970\n",
      "Iteration 19, loss = 0.00053521\n",
      "Iteration 20, loss = 0.00052182\n",
      "Training loss did not improve more than tol=0.000100 for 10 consecutive epochs. Stopping.\n"
     ]
    }
   ],
   "source": [
    "start1l500 = time.time()\n",
    "mlp1l500.fit(X_train, y_train)\n",
    "stop1l500 = time.time()"
   ]
  },
  {
   "cell_type": "code",
   "execution_count": 209,
   "id": "d7ee5674",
   "metadata": {},
   "outputs": [],
   "source": [
    "accuracy1l500 = mlp1l500.score(X_test, y_test)"
   ]
  },
  {
   "cell_type": "code",
   "execution_count": 210,
   "id": "25b96e40",
   "metadata": {},
   "outputs": [],
   "source": [
    "y_pred1l500 = mlp1l500.predict(X_test)"
   ]
  },
  {
   "cell_type": "code",
   "execution_count": 211,
   "id": "369e2849",
   "metadata": {},
   "outputs": [
    {
     "name": "stdout",
     "output_type": "stream",
     "text": [
      "Training time: 1338.56 seconds\n"
     ]
    }
   ],
   "source": [
    "print(f\"Training time: {stop1l500 - start1l500:.2f} seconds\")"
   ]
  },
  {
   "cell_type": "code",
   "execution_count": 212,
   "id": "4fa0d78c",
   "metadata": {
    "scrolled": true
   },
   "outputs": [
    {
     "data": {
      "text/plain": [
       "0.89"
      ]
     },
     "execution_count": 212,
     "metadata": {},
     "output_type": "execute_result"
    }
   ],
   "source": [
    "accuracy1l500"
   ]
  },
  {
   "cell_type": "code",
   "execution_count": 213,
   "id": "f37d1ed7",
   "metadata": {},
   "outputs": [
    {
     "name": "stdout",
     "output_type": "stream",
     "text": [
      "              precision    recall  f1-score   support\n",
      "\n",
      "         GPT       0.92      0.86      0.89      1020\n",
      "       Human       0.87      0.92      0.89       980\n",
      "\n",
      "    accuracy                           0.89      2000\n",
      "   macro avg       0.89      0.89      0.89      2000\n",
      "weighted avg       0.89      0.89      0.89      2000\n",
      "\n"
     ]
    }
   ],
   "source": [
    "print(classification_report(y_pred1l500, y_test))"
   ]
  },
  {
   "cell_type": "code",
   "execution_count": 214,
   "id": "a5b261e2",
   "metadata": {
    "scrolled": false
   },
   "outputs": [
    {
     "name": "stdout",
     "output_type": "stream",
     "text": [
      "[[881 139]\n",
      " [ 81 899]]\n"
     ]
    }
   ],
   "source": [
    "print(confusion_matrix(y_pred1l500, y_test))"
   ]
  },
  {
   "cell_type": "code",
   "execution_count": null,
   "id": "22aa9292",
   "metadata": {},
   "outputs": [],
   "source": []
  },
  {
   "cell_type": "markdown",
   "id": "915a9c7c",
   "metadata": {},
   "source": [
    "### 1 layer of 100 nodes with logistic activation"
   ]
  },
  {
   "cell_type": "code",
   "execution_count": 125,
   "id": "fe0063cd",
   "metadata": {},
   "outputs": [],
   "source": [
    "mlpL = MLPClassifier(activation='logistic', verbose=True)"
   ]
  },
  {
   "cell_type": "code",
   "execution_count": 126,
   "id": "696999e6",
   "metadata": {},
   "outputs": [
    {
     "name": "stdout",
     "output_type": "stream",
     "text": [
      "Iteration 1, loss = 0.57044719\n",
      "Iteration 2, loss = 0.32818928\n",
      "Iteration 3, loss = 0.18001943\n",
      "Iteration 4, loss = 0.09848008\n",
      "Iteration 5, loss = 0.05798578\n",
      "Iteration 6, loss = 0.03717769\n",
      "Iteration 7, loss = 0.02549038\n",
      "Iteration 8, loss = 0.01884943\n",
      "Iteration 9, loss = 0.01468440\n",
      "Iteration 10, loss = 0.01188179\n",
      "Iteration 11, loss = 0.00993002\n",
      "Iteration 12, loss = 0.00849512\n",
      "Iteration 13, loss = 0.00743311\n",
      "Iteration 14, loss = 0.00659330\n",
      "Iteration 15, loss = 0.00593275\n",
      "Iteration 16, loss = 0.00540666\n",
      "Iteration 17, loss = 0.00497587\n",
      "Iteration 18, loss = 0.00462121\n",
      "Iteration 19, loss = 0.00432336\n",
      "Iteration 20, loss = 0.00406984\n",
      "Iteration 21, loss = 0.00384828\n",
      "Iteration 22, loss = 0.00366083\n",
      "Iteration 23, loss = 0.00349265\n",
      "Iteration 24, loss = 0.00334646\n",
      "Iteration 25, loss = 0.00321707\n",
      "Iteration 26, loss = 0.00310063\n",
      "Iteration 27, loss = 0.00299520\n",
      "Iteration 28, loss = 0.00290002\n",
      "Iteration 29, loss = 0.00281368\n",
      "Iteration 30, loss = 0.00273388\n",
      "Iteration 31, loss = 0.00266034\n",
      "Iteration 32, loss = 0.00259268\n",
      "Iteration 33, loss = 0.00252935\n",
      "Iteration 34, loss = 0.00246975\n",
      "Iteration 35, loss = 0.00241466\n",
      "Iteration 36, loss = 0.00236223\n",
      "Iteration 37, loss = 0.00231332\n",
      "Iteration 38, loss = 0.00226645\n",
      "Training loss did not improve more than tol=0.000100 for 10 consecutive epochs. Stopping.\n"
     ]
    }
   ],
   "source": [
    "startL = time.time()\n",
    "mlpL.fit(X_train, y_train)\n",
    "stopL = time.time()"
   ]
  },
  {
   "cell_type": "code",
   "execution_count": 127,
   "id": "d0cba22c",
   "metadata": {},
   "outputs": [],
   "source": [
    "accuracyL = mlpL.score(X_test, y_test)"
   ]
  },
  {
   "cell_type": "code",
   "execution_count": 128,
   "id": "4d4cf87b",
   "metadata": {},
   "outputs": [],
   "source": [
    "y_predL = mlpL.predict(X_test)"
   ]
  },
  {
   "cell_type": "code",
   "execution_count": 129,
   "id": "90faae39",
   "metadata": {},
   "outputs": [
    {
     "name": "stdout",
     "output_type": "stream",
     "text": [
      "Training time: 534.23 seconds\n"
     ]
    }
   ],
   "source": [
    "print(f\"Training time: {stopL - startL:.2f} seconds\")"
   ]
  },
  {
   "cell_type": "code",
   "execution_count": 130,
   "id": "057bf54c",
   "metadata": {},
   "outputs": [
    {
     "data": {
      "text/plain": [
       "0.8985"
      ]
     },
     "execution_count": 130,
     "metadata": {},
     "output_type": "execute_result"
    }
   ],
   "source": [
    "accuracyL"
   ]
  },
  {
   "cell_type": "code",
   "execution_count": 131,
   "id": "b99feae8",
   "metadata": {},
   "outputs": [
    {
     "name": "stdout",
     "output_type": "stream",
     "text": [
      "              precision    recall  f1-score   support\n",
      "\n",
      "         GPT       0.90      0.89      0.90       979\n",
      "       Human       0.89      0.91      0.90      1021\n",
      "\n",
      "    accuracy                           0.90      2000\n",
      "   macro avg       0.90      0.90      0.90      2000\n",
      "weighted avg       0.90      0.90      0.90      2000\n",
      "\n"
     ]
    }
   ],
   "source": [
    "print(classification_report(y_predL, y_test))"
   ]
  },
  {
   "cell_type": "code",
   "execution_count": 132,
   "id": "39ffb3cf",
   "metadata": {
    "scrolled": false
   },
   "outputs": [
    {
     "name": "stdout",
     "output_type": "stream",
     "text": [
      "[[869 110]\n",
      " [ 93 928]]\n"
     ]
    }
   ],
   "source": [
    "print(confusion_matrix(y_predL, y_test))"
   ]
  },
  {
   "cell_type": "markdown",
   "id": "5f16b673",
   "metadata": {},
   "source": [
    "### 2 layers of 100 nodes with logistic activation"
   ]
  },
  {
   "cell_type": "code",
   "execution_count": 217,
   "id": "0199480c",
   "metadata": {},
   "outputs": [],
   "source": [
    "mlp2l100L = MLPClassifier(hidden_layer_sizes=(100,100,), activation='logistic', verbose=True)"
   ]
  },
  {
   "cell_type": "code",
   "execution_count": 220,
   "id": "46a0c637",
   "metadata": {},
   "outputs": [
    {
     "name": "stdout",
     "output_type": "stream",
     "text": [
      "Iteration 1, loss = 0.63330047\n",
      "Iteration 2, loss = 0.31558846\n",
      "Iteration 3, loss = 0.08612099\n",
      "Iteration 4, loss = 0.02707527\n",
      "Iteration 5, loss = 0.01246912\n",
      "Iteration 6, loss = 0.00788686\n",
      "Iteration 7, loss = 0.00577616\n",
      "Iteration 8, loss = 0.00456626\n",
      "Iteration 9, loss = 0.00378487\n",
      "Iteration 10, loss = 0.00324646\n",
      "Iteration 11, loss = 0.00285433\n",
      "Iteration 12, loss = 0.00255637\n",
      "Iteration 13, loss = 0.00232452\n",
      "Iteration 14, loss = 0.00213937\n",
      "Iteration 15, loss = 0.00198736\n",
      "Iteration 16, loss = 0.00186071\n",
      "Iteration 17, loss = 0.00175319\n",
      "Iteration 18, loss = 0.00166123\n",
      "Iteration 19, loss = 0.00158088\n",
      "Iteration 20, loss = 0.00151033\n",
      "Iteration 21, loss = 0.00144748\n",
      "Iteration 22, loss = 0.00139121\n",
      "Iteration 23, loss = 0.00134030\n",
      "Iteration 24, loss = 0.00129394\n",
      "Iteration 25, loss = 0.00125151\n",
      "Iteration 26, loss = 0.00121231\n",
      "Iteration 27, loss = 0.00117601\n",
      "Iteration 28, loss = 0.00114221\n",
      "Training loss did not improve more than tol=0.000100 for 10 consecutive epochs. Stopping.\n"
     ]
    }
   ],
   "source": [
    "start2l100L = time.time()\n",
    "mlp2l100L.fit(X_train, y_train)\n",
    "stop2l100L = time.time()"
   ]
  },
  {
   "cell_type": "code",
   "execution_count": 221,
   "id": "a600a6b7",
   "metadata": {},
   "outputs": [],
   "source": [
    "accuracy2l100L = mlp2l100L.score(X_test, y_test)"
   ]
  },
  {
   "cell_type": "code",
   "execution_count": 222,
   "id": "da9b9859",
   "metadata": {},
   "outputs": [],
   "source": [
    "y_pred2l100L = mlp2l100L.predict(X_test)"
   ]
  },
  {
   "cell_type": "code",
   "execution_count": 223,
   "id": "fa66d403",
   "metadata": {},
   "outputs": [
    {
     "name": "stdout",
     "output_type": "stream",
     "text": [
      "Training time: 403.73 seconds\n"
     ]
    }
   ],
   "source": [
    "print(f\"Training time: {stop2l100L - start2l100L:.2f} seconds\")"
   ]
  },
  {
   "cell_type": "code",
   "execution_count": 224,
   "id": "a39a8410",
   "metadata": {},
   "outputs": [
    {
     "data": {
      "text/plain": [
       "0.9105"
      ]
     },
     "execution_count": 224,
     "metadata": {},
     "output_type": "execute_result"
    }
   ],
   "source": [
    "accuracy2l100L"
   ]
  },
  {
   "cell_type": "code",
   "execution_count": 225,
   "id": "55937bad",
   "metadata": {},
   "outputs": [
    {
     "name": "stdout",
     "output_type": "stream",
     "text": [
      "              precision    recall  f1-score   support\n",
      "\n",
      "         GPT       0.90      0.91      0.91       951\n",
      "       Human       0.92      0.91      0.91      1049\n",
      "\n",
      "    accuracy                           0.91      2000\n",
      "   macro avg       0.91      0.91      0.91      2000\n",
      "weighted avg       0.91      0.91      0.91      2000\n",
      "\n"
     ]
    }
   ],
   "source": [
    "print(classification_report(y_pred2l100L, y_test))"
   ]
  },
  {
   "cell_type": "code",
   "execution_count": 226,
   "id": "4dacce78",
   "metadata": {
    "scrolled": false
   },
   "outputs": [
    {
     "name": "stdout",
     "output_type": "stream",
     "text": [
      "[[867  84]\n",
      " [ 95 954]]\n"
     ]
    }
   ],
   "source": [
    "print(confusion_matrix(y_pred2l100L, y_test))"
   ]
  },
  {
   "cell_type": "markdown",
   "id": "d4b372c2",
   "metadata": {},
   "source": [
    "### 3 layers of 100 nodes with logistic activation"
   ]
  },
  {
   "cell_type": "code",
   "execution_count": 227,
   "id": "097edf82",
   "metadata": {},
   "outputs": [],
   "source": [
    "mlp3l100L = MLPClassifier(hidden_layer_sizes=(100,100,100,), activation='logistic', verbose=True)"
   ]
  },
  {
   "cell_type": "code",
   "execution_count": 228,
   "id": "45e5be91",
   "metadata": {},
   "outputs": [
    {
     "name": "stdout",
     "output_type": "stream",
     "text": [
      "Iteration 1, loss = 0.67492883\n",
      "Iteration 2, loss = 0.34710158\n",
      "Iteration 3, loss = 0.05995760\n",
      "Iteration 4, loss = 0.01442557\n",
      "Iteration 5, loss = 0.00704847\n",
      "Iteration 6, loss = 0.00456999\n",
      "Iteration 7, loss = 0.00356768\n",
      "Iteration 8, loss = 0.00294544\n",
      "Iteration 9, loss = 0.00252252\n",
      "Iteration 10, loss = 0.00221344\n",
      "Iteration 11, loss = 0.00197859\n",
      "Iteration 12, loss = 0.00179331\n",
      "Iteration 13, loss = 0.00164390\n",
      "Iteration 14, loss = 0.00152044\n",
      "Iteration 15, loss = 0.00141657\n",
      "Iteration 16, loss = 0.00132780\n",
      "Iteration 17, loss = 0.00125089\n",
      "Iteration 18, loss = 0.00118370\n",
      "Iteration 19, loss = 0.00112427\n",
      "Iteration 20, loss = 0.00107121\n",
      "Iteration 21, loss = 0.00102363\n",
      "Iteration 22, loss = 0.00098044\n",
      "Iteration 23, loss = 0.00094124\n",
      "Iteration 24, loss = 0.00090535\n",
      "Iteration 25, loss = 0.00087231\n",
      "Iteration 26, loss = 0.00084184\n",
      "Training loss did not improve more than tol=0.000100 for 10 consecutive epochs. Stopping.\n"
     ]
    }
   ],
   "source": [
    "start3l100L = time.time()\n",
    "mlp3l100L.fit(X_train, y_train)\n",
    "stop3l100L = time.time()"
   ]
  },
  {
   "cell_type": "code",
   "execution_count": 229,
   "id": "54c57e94",
   "metadata": {},
   "outputs": [],
   "source": [
    "accuracy3l100L = mlp3l100L.score(X_test, y_test)"
   ]
  },
  {
   "cell_type": "code",
   "execution_count": 230,
   "id": "1405cf4f",
   "metadata": {},
   "outputs": [],
   "source": [
    "y_pred3l100L = mlp3l100L.predict(X_test)"
   ]
  },
  {
   "cell_type": "code",
   "execution_count": 231,
   "id": "622fbb1f",
   "metadata": {},
   "outputs": [
    {
     "name": "stdout",
     "output_type": "stream",
     "text": [
      "Training time: 372.90 seconds\n"
     ]
    }
   ],
   "source": [
    "print(f\"Training time: {stop3l100L - start3l100L:.2f} seconds\")"
   ]
  },
  {
   "cell_type": "code",
   "execution_count": 232,
   "id": "456de96e",
   "metadata": {},
   "outputs": [
    {
     "data": {
      "text/plain": [
       "0.912"
      ]
     },
     "execution_count": 232,
     "metadata": {},
     "output_type": "execute_result"
    }
   ],
   "source": [
    "accuracy3l100L"
   ]
  },
  {
   "cell_type": "code",
   "execution_count": 233,
   "id": "d7a54669",
   "metadata": {},
   "outputs": [
    {
     "name": "stdout",
     "output_type": "stream",
     "text": [
      "              precision    recall  f1-score   support\n",
      "\n",
      "         GPT       0.91      0.91      0.91       962\n",
      "       Human       0.92      0.92      0.92      1038\n",
      "\n",
      "    accuracy                           0.91      2000\n",
      "   macro avg       0.91      0.91      0.91      2000\n",
      "weighted avg       0.91      0.91      0.91      2000\n",
      "\n"
     ]
    }
   ],
   "source": [
    "print(classification_report(y_pred3l100L, y_test))"
   ]
  },
  {
   "cell_type": "code",
   "execution_count": 234,
   "id": "8b197b4a",
   "metadata": {
    "scrolled": false
   },
   "outputs": [
    {
     "name": "stdout",
     "output_type": "stream",
     "text": [
      "[[874  88]\n",
      " [ 88 950]]\n"
     ]
    }
   ],
   "source": [
    "print(confusion_matrix(y_pred3l100L, y_test))"
   ]
  },
  {
   "cell_type": "markdown",
   "id": "457c76c1",
   "metadata": {},
   "source": [
    "### 4 layers of 100 nodes with logistic activation"
   ]
  },
  {
   "cell_type": "code",
   "execution_count": 235,
   "id": "2519c5b1",
   "metadata": {},
   "outputs": [],
   "source": [
    "mlp4l100L = MLPClassifier(hidden_layer_sizes=(100,100,100,100,), activation='logistic', verbose=True)"
   ]
  },
  {
   "cell_type": "code",
   "execution_count": 236,
   "id": "75323469",
   "metadata": {},
   "outputs": [
    {
     "name": "stdout",
     "output_type": "stream",
     "text": [
      "Iteration 1, loss = 0.69903288\n",
      "Iteration 2, loss = 0.61030315\n",
      "Iteration 3, loss = 0.16851468\n",
      "Iteration 4, loss = 0.03679102\n",
      "Iteration 5, loss = 0.01600032\n",
      "Iteration 6, loss = 0.00869534\n",
      "Iteration 7, loss = 0.00574242\n",
      "Iteration 8, loss = 0.00453859\n",
      "Iteration 9, loss = 0.00375538\n",
      "Iteration 10, loss = 0.00320402\n",
      "Iteration 11, loss = 0.00279447\n",
      "Iteration 12, loss = 0.00247862\n",
      "Iteration 13, loss = 0.00222756\n",
      "Iteration 14, loss = 0.00202356\n",
      "Iteration 15, loss = 0.00185437\n",
      "Iteration 16, loss = 0.00171193\n",
      "Iteration 17, loss = 0.00159029\n",
      "Iteration 18, loss = 0.00148546\n",
      "Iteration 19, loss = 0.00139400\n",
      "Iteration 20, loss = 0.00131351\n",
      "Iteration 21, loss = 0.00124225\n",
      "Iteration 22, loss = 0.00117863\n",
      "Iteration 23, loss = 0.00112153\n",
      "Iteration 24, loss = 0.00106997\n",
      "Iteration 25, loss = 0.00102317\n",
      "Iteration 26, loss = 0.00098055\n",
      "Iteration 27, loss = 0.00094150\n",
      "Iteration 28, loss = 0.00090561\n",
      "Iteration 29, loss = 0.00087256\n",
      "Training loss did not improve more than tol=0.000100 for 10 consecutive epochs. Stopping.\n"
     ]
    }
   ],
   "source": [
    "start4l100L = time.time()\n",
    "mlp4l100L.fit(X_train, y_train)\n",
    "stop4l100L = time.time()"
   ]
  },
  {
   "cell_type": "code",
   "execution_count": 237,
   "id": "e5cddf64",
   "metadata": {},
   "outputs": [],
   "source": [
    "accuracy4l100L = mlp4l100L.score(X_test, y_test)"
   ]
  },
  {
   "cell_type": "code",
   "execution_count": 238,
   "id": "d9ad013e",
   "metadata": {},
   "outputs": [],
   "source": [
    "y_pred4l100L = mlp4l100L.predict(X_test)"
   ]
  },
  {
   "cell_type": "code",
   "execution_count": 239,
   "id": "1248ecc7",
   "metadata": {},
   "outputs": [
    {
     "name": "stdout",
     "output_type": "stream",
     "text": [
      "Training time: 394.22 seconds\n"
     ]
    }
   ],
   "source": [
    "print(f\"Training time: {stop4l100L - start4l100L:.2f} seconds\")"
   ]
  },
  {
   "cell_type": "code",
   "execution_count": 240,
   "id": "25a5d228",
   "metadata": {},
   "outputs": [
    {
     "data": {
      "text/plain": [
       "0.906"
      ]
     },
     "execution_count": 240,
     "metadata": {},
     "output_type": "execute_result"
    }
   ],
   "source": [
    "accuracy4l100L"
   ]
  },
  {
   "cell_type": "code",
   "execution_count": 241,
   "id": "7c7a9578",
   "metadata": {},
   "outputs": [
    {
     "name": "stdout",
     "output_type": "stream",
     "text": [
      "              precision    recall  f1-score   support\n",
      "\n",
      "         GPT       0.90      0.90      0.90       958\n",
      "       Human       0.91      0.91      0.91      1042\n",
      "\n",
      "    accuracy                           0.91      2000\n",
      "   macro avg       0.91      0.91      0.91      2000\n",
      "weighted avg       0.91      0.91      0.91      2000\n",
      "\n"
     ]
    }
   ],
   "source": [
    "print(classification_report(y_pred4l100L, y_test))"
   ]
  },
  {
   "cell_type": "code",
   "execution_count": 242,
   "id": "45d70f70",
   "metadata": {
    "scrolled": false
   },
   "outputs": [
    {
     "name": "stdout",
     "output_type": "stream",
     "text": [
      "[[866  92]\n",
      " [ 96 946]]\n"
     ]
    }
   ],
   "source": [
    "print(confusion_matrix(y_pred4l100L, y_test))"
   ]
  },
  {
   "cell_type": "markdown",
   "id": "575c6891",
   "metadata": {},
   "source": [
    "### 5 layers of 100 nodes with logistic activation"
   ]
  },
  {
   "cell_type": "code",
   "execution_count": 243,
   "id": "703d2f18",
   "metadata": {},
   "outputs": [],
   "source": [
    "mlp5l100L = MLPClassifier(hidden_layer_sizes=(100,100,100,100,100,), activation='logistic', verbose=True)"
   ]
  },
  {
   "cell_type": "code",
   "execution_count": 244,
   "id": "94f3d629",
   "metadata": {},
   "outputs": [
    {
     "name": "stdout",
     "output_type": "stream",
     "text": [
      "Iteration 1, loss = 0.69492037\n",
      "Iteration 2, loss = 0.62672266\n",
      "Iteration 3, loss = 0.15196998\n",
      "Iteration 4, loss = 0.04081852\n",
      "Iteration 5, loss = 0.01742213\n",
      "Iteration 6, loss = 0.00917427\n",
      "Iteration 7, loss = 0.00529074\n",
      "Iteration 8, loss = 0.00363399\n",
      "Iteration 9, loss = 0.00296145\n",
      "Iteration 10, loss = 0.00250455\n",
      "Iteration 11, loss = 0.00217113\n",
      "Iteration 12, loss = 0.00191739\n",
      "Iteration 13, loss = 0.00171791\n",
      "Iteration 14, loss = 0.00155703\n",
      "Iteration 15, loss = 0.00142483\n",
      "Iteration 16, loss = 0.00131427\n",
      "Iteration 17, loss = 0.00122060\n",
      "Iteration 18, loss = 0.00114020\n",
      "Iteration 19, loss = 0.00107057\n",
      "Iteration 20, loss = 0.00100967\n",
      "Iteration 21, loss = 0.00095598\n",
      "Iteration 22, loss = 0.00090834\n",
      "Iteration 23, loss = 0.00086577\n",
      "Iteration 24, loss = 0.00082755\n",
      "Iteration 25, loss = 0.00079300\n",
      "Iteration 26, loss = 0.00076167\n",
      "Iteration 27, loss = 0.00073311\n",
      "Training loss did not improve more than tol=0.000100 for 10 consecutive epochs. Stopping.\n"
     ]
    }
   ],
   "source": [
    "start5l100L = time.time()\n",
    "mlp5l100L.fit(X_train, y_train)\n",
    "stop5l100L = time.time()"
   ]
  },
  {
   "cell_type": "code",
   "execution_count": 245,
   "id": "ef05625c",
   "metadata": {},
   "outputs": [],
   "source": [
    "accuracy5l100L = mlp5l100L.score(X_test, y_test)"
   ]
  },
  {
   "cell_type": "code",
   "execution_count": 246,
   "id": "db285201",
   "metadata": {},
   "outputs": [],
   "source": [
    "y_pred5l100L = mlp5l100L.predict(X_test)"
   ]
  },
  {
   "cell_type": "code",
   "execution_count": 247,
   "id": "47025adf",
   "metadata": {},
   "outputs": [
    {
     "name": "stdout",
     "output_type": "stream",
     "text": [
      "Training time: 368.45 seconds\n"
     ]
    }
   ],
   "source": [
    "print(f\"Training time: {stop5l100L - start5l100L:.2f} seconds\")"
   ]
  },
  {
   "cell_type": "code",
   "execution_count": 248,
   "id": "80babb59",
   "metadata": {},
   "outputs": [
    {
     "data": {
      "text/plain": [
       "0.9055"
      ]
     },
     "execution_count": 248,
     "metadata": {},
     "output_type": "execute_result"
    }
   ],
   "source": [
    "accuracy5l100L"
   ]
  },
  {
   "cell_type": "code",
   "execution_count": 249,
   "id": "e9795204",
   "metadata": {},
   "outputs": [
    {
     "name": "stdout",
     "output_type": "stream",
     "text": [
      "              precision    recall  f1-score   support\n",
      "\n",
      "         GPT       0.90      0.90      0.90       959\n",
      "       Human       0.91      0.91      0.91      1041\n",
      "\n",
      "    accuracy                           0.91      2000\n",
      "   macro avg       0.91      0.91      0.91      2000\n",
      "weighted avg       0.91      0.91      0.91      2000\n",
      "\n"
     ]
    }
   ],
   "source": [
    "print(classification_report(y_pred5l100L, y_test))"
   ]
  },
  {
   "cell_type": "code",
   "execution_count": 250,
   "id": "2c2179f4",
   "metadata": {
    "scrolled": false
   },
   "outputs": [
    {
     "name": "stdout",
     "output_type": "stream",
     "text": [
      "[[866  93]\n",
      " [ 96 945]]\n"
     ]
    }
   ],
   "source": [
    "print(confusion_matrix(y_pred5l100L, y_test))"
   ]
  },
  {
   "cell_type": "code",
   "execution_count": 253,
   "id": "c51f4fd2",
   "metadata": {},
   "outputs": [],
   "source": [
    "x_axis=[1,2,3,4,5]\n",
    "y_axis=[accuracyL,accuracy2l100L,accuracy3l100L,accuracy4l100L,accuracy5l100L]"
   ]
  },
  {
   "cell_type": "code",
   "execution_count": 254,
   "id": "6eb47ba9",
   "metadata": {},
   "outputs": [
    {
     "data": {
      "image/png": "[encoded data removed]",
      "text/plain": [
       "<Figure size 640x480 with 1 Axes>"
      ]
     },
     "metadata": {},
     "output_type": "display_data"
    }
   ],
   "source": [
    "plt.plot(x_axis, y_axis)\n",
    "plt.title('100 Nodes Per Layer with Logistic Activation')\n",
    "plt.xticks(range(1,6))\n",
    "plt.xlabel('Layers')\n",
    "plt.ylabel('Accuracy')\n",
    "plt.show()"
   ]
  },
  {
   "cell_type": "code",
   "execution_count": null,
   "id": "88cca0a7",
   "metadata": {},
   "outputs": [],
   "source": []
  },
  {
   "cell_type": "code",
   "execution_count": null,
   "id": "ad2c21c8",
   "metadata": {},
   "outputs": [],
   "source": []
  },
  {
   "cell_type": "code",
   "execution_count": 105,
   "id": "052204e3",
   "metadata": {},
   "outputs": [],
   "source": [
    "vocab = vectorizer.vocabulary_"
   ]
  },
  {
   "cell_type": "code",
   "execution_count": 106,
   "id": "a4a39880",
   "metadata": {},
   "outputs": [],
   "source": [
    "new_vectorizer = CountVectorizer(vocabulary=vocab)"
   ]
  },
  {
   "cell_type": "code",
   "execution_count": 107,
   "id": "b19905b1",
   "metadata": {},
   "outputs": [],
   "source": [
    "Test = \"The moon is a celestial object that orbits around the Earth and is the fifth largest natural satellite in the solar system. It has a rocky surface that is covered in craters, mountains, and vast plains called maria, which are made up of hardened lava flows. The moon has no atmosphere and is not capable of supporting life, but it does have a gravitational pull that affects the tides on Earth. The moon's phases, which are caused by its position relative to the sun and Earth, have played an important role in human culture and mythology for centuries. Humans have landed on the moon several times, with the first landing occurring in 1969 during the Apollo 11 mission. The study of the moon continues to be an important area of research for scientists and astronomers seeking to better understand the history and formation of the solar system.\""
   ]
  },
  {
   "cell_type": "code",
   "execution_count": 108,
   "id": "c0876b4e",
   "metadata": {},
   "outputs": [],
   "source": [
    "Test_features = new_vectorizer.transform([Test])"
   ]
  },
  {
   "cell_type": "code",
   "execution_count": 109,
   "id": "18ab0fcf",
   "metadata": {},
   "outputs": [
    {
     "data": {
      "text/plain": [
       "'GPT'"
      ]
     },
     "execution_count": 109,
     "metadata": {},
     "output_type": "execute_result"
    }
   ],
   "source": [
    "mlp.predict(Test_features)[0]"
   ]
  }
 ],
 "metadata": {
  "kernelspec": {
   "display_name": "Python 3 (ipykernel)",
   "language": "python",
   "name": "python3"
  },
  "language_info": {
   "codemirror_mode": {
    "name": "ipython",
    "version": 3
   },
   "file_extension": ".py",
   "mimetype": "text/x-python",
   "name": "python",
   "nbconvert_exporter": "python",
   "pygments_lexer": "ipython3",
   "version": "3.10.11"
  }
 },
 "nbformat": 4,
 "nbformat_minor": 5
}
